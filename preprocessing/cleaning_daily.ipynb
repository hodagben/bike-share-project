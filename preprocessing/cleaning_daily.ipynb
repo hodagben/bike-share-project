{
 "cells": [
  {
   "cell_type": "markdown",
   "id": "c0613e48-488d-4602-b463-3ef46013ab87",
   "metadata": {},
   "source": [
    "#### Cleaning ``bike_weather_combined_daily.csv``"
   ]
  },
  {
   "cell_type": "code",
   "execution_count": 1,
   "id": "2af20ba1-aa78-4550-b50d-b05cc9d42b58",
   "metadata": {},
   "outputs": [],
   "source": [
    "import numpy as np\n",
    "import pandas as pd"
   ]
  },
  {
   "cell_type": "code",
   "execution_count": 4,
   "id": "573ba2ce-2287-4a2f-aeff-6ab15e43c83b",
   "metadata": {},
   "outputs": [],
   "source": [
    "bikeshare = pd.read_csv('./weather_data/bike_weather_combined_daily.csv', index_col=['Date'], parse_dates=['Date'])"
   ]
  },
  {
   "cell_type": "code",
   "execution_count": 7,
   "id": "9b428e34-cb1d-425d-aeae-8650ec360a7a",
   "metadata": {
    "scrolled": true
   },
   "outputs": [
    {
     "name": "stdout",
     "output_type": "stream",
     "text": [
      "<class 'pandas.core.frame.DataFrame'>\n",
      "DatetimeIndex: 2677 entries, 2017-01-01 to 2024-04-30\n",
      "Data columns (total 17 columns):\n",
      " #   Column                          Non-Null Count  Dtype  \n",
      "---  ------                          --------------  -----  \n",
      " 0   Bike trips                      2677 non-null   int64  \n",
      " 1   Total distance (m)              2677 non-null   float64\n",
      " 2   Total duration (sec)            2677 non-null   float64\n",
      " 3   Mean departure temperature (C)  2645 non-null   float64\n",
      " 4   Mean return temperature (C)     2645 non-null   float64\n",
      " 5   Electric bike trips             638 non-null    float64\n",
      " 6   Max Temp (°C)                   2645 non-null   float64\n",
      " 7   Min Temp (°C)                   2648 non-null   float64\n",
      " 8   Mean Temp (°C)                  2644 non-null   float64\n",
      " 9   Heat Deg Days (°C)              2644 non-null   float64\n",
      " 10  Cool Deg Days (°C)              2644 non-null   float64\n",
      " 11  Total Rain (mm)                 2655 non-null   float64\n",
      " 12  Total Snow (cm)                 2661 non-null   float64\n",
      " 13  Total Precip (mm)               2666 non-null   float64\n",
      " 14  Snow on Grnd (cm)               124 non-null    float64\n",
      " 15  Spd of Max Gust (km/h)          1855 non-null   object \n",
      " 16  Daylength                       2677 non-null   object \n",
      "dtypes: float64(14), int64(1), object(2)\n",
      "memory usage: 376.5+ KB\n"
     ]
    },
    {
     "data": {
      "text/plain": [
       "(None, 2677)"
      ]
     },
     "execution_count": 7,
     "metadata": {},
     "output_type": "execute_result"
    }
   ],
   "source": [
    "bikeshare.info(), len(bikeshare)"
   ]
  },
  {
   "cell_type": "code",
   "execution_count": null,
   "id": "e61821f0-e7ea-43b6-afec-4c190f82f869",
   "metadata": {},
   "outputs": [],
   "source": []
  }
 ],
 "metadata": {
  "kernelspec": {
   "display_name": "erdos_may_2024",
   "language": "python",
   "name": "erdos_may_2024"
  },
  "language_info": {
   "codemirror_mode": {
    "name": "ipython",
    "version": 3
   },
   "file_extension": ".py",
   "mimetype": "text/x-python",
   "name": "python",
   "nbconvert_exporter": "python",
   "pygments_lexer": "ipython3",
   "version": "3.9.15"
  }
 },
 "nbformat": 4,
 "nbformat_minor": 5
}
