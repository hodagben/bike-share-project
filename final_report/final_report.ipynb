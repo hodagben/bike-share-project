{
 "cells": [
  {
   "cell_type": "markdown",
   "id": "fe5dead2-dac2-443c-a977-2ef07cf374cd",
   "metadata": {},
   "source": [
    "# Project Description"
   ]
  },
  {
   "cell_type": "code",
   "execution_count": null,
   "id": "a364fe8f-6c40-41c7-bfbc-1a766f6db2f2",
   "metadata": {},
   "outputs": [],
   "source": []
  },
  {
   "cell_type": "markdown",
   "id": "9a0cfc6e-b9b5-405f-94cf-6ef186bb0687",
   "metadata": {},
   "source": [
    "# Summary of Data"
   ]
  },
  {
   "cell_type": "code",
   "execution_count": null,
   "id": "50575d3b-310c-4bba-9b45-260551708cf9",
   "metadata": {},
   "outputs": [],
   "source": []
  },
  {
   "cell_type": "markdown",
   "id": "897fdae3-d311-45fe-8282-6dd2313dea4c",
   "metadata": {},
   "source": [
    "# Data Exploration and Preprocessing"
   ]
  },
  {
   "cell_type": "code",
   "execution_count": null,
   "id": "c14510a1-311a-4700-a6c5-510fd773cecb",
   "metadata": {},
   "outputs": [],
   "source": [
    "### Data Manipulation Imports ###\n",
    "\n",
    "import numpy as np\n",
    "import matplotlib.pyplot as plt\n",
    "from matplotlib import dates as mdates\n",
    "import seaborn as sns\n",
    "import pandas as pd"
   ]
  },
  {
   "cell_type": "code",
   "execution_count": null,
   "id": "5205f9a8",
   "metadata": {},
   "outputs": [],
   "source": [
    "### Show Data Frame ###\n",
    "\n",
    "df.head()"
   ]
  },
  {
   "cell_type": "code",
   "execution_count": null,
   "id": "346bb012",
   "metadata": {},
   "outputs": [],
   "source": [
    "### Data Cleaning ###"
   ]
  },
  {
   "cell_type": "code",
   "execution_count": null,
   "id": "478ca56d",
   "metadata": {},
   "outputs": [],
   "source": [
    "### Remove Trend ###"
   ]
  },
  {
   "cell_type": "code",
   "execution_count": null,
   "id": "2c43637b",
   "metadata": {},
   "outputs": [],
   "source": [
    "### Show Data ###\n",
    "\n",
    "fig, ax = plt.subplots(1,1,figsize = (10,5))\n",
    "\n",
    "ax.scatter(df.Date,df.total_num_trips)\n",
    "\n",
    "ax.xaxis.set_major_locator(mdates.YearLocator())\n",
    "ax.xaxis.set_minor_locator(mdates.MonthLocator(bymonth=(1,4,7,10)))\n",
    "plt.gcf().autofmt_xdate()\n",
    "\n",
    "ax.set_xlabel('Date')\n",
    "ax.set_ylabel('Number of Trips')\n",
    "ax.set_title('Number of Trips Over Time')\n",
    "\n",
    "plt.show()"
   ]
  },
  {
   "cell_type": "code",
   "execution_count": null,
   "id": "263cbe1f-dae7-4c35-85af-e0b423991413",
   "metadata": {},
   "outputs": [],
   "source": [
    "bike_train = pd.read_csv('../EDA/bikeshare_train_data_pcwsdetrend_mult.csv', parse_dates = ['Date'])\n",
    "bike_test = pd.read_csv('../EDA/bikeshare_test_data_pcwsdetrend_mult.csv', parse_dates = ['Date'])"
   ]
  },
  {
   "cell_type": "markdown",
   "id": "53f6e59d-37bb-40e0-b288-4b421239b16a",
   "metadata": {},
   "source": [
    "# Baseline Models"
   ]
  },
  {
   "cell_type": "code",
   "execution_count": null,
   "id": "d9f0fb69",
   "metadata": {},
   "outputs": [],
   "source": [
    "### Modeling Imports ###\n",
    "\n",
    "from sklearn.model_selection import train_test_split\n",
    "from sklearn.linear_model import LinearRegression \n",
    "from sklearn.metrics import mean_squared_error\n",
    "from sklearn.neighbors import KNeighborsRegressor\n",
    "from sklearn.preprocessing import StandardScaler"
   ]
  },
  {
   "cell_type": "code",
   "execution_count": null,
   "id": "32352023-f296-4c11-b7c2-8fe906caab34",
   "metadata": {},
   "outputs": [],
   "source": [
    "### Train Test Split ###\n",
    "\n",
    "#? Linear features are total_precip, mean_dep_temp, and num_stations ??? "
   ]
  },
  {
   "cell_type": "code",
   "execution_count": null,
   "id": "ec3b4117",
   "metadata": {},
   "outputs": [],
   "source": [
    "### Basic Linear Regression ###\n",
    "\n",
    "linear_model = LinearRegression()\n",
    "linear_model.fit(X_train, y_train)"
   ]
  },
  {
   "cell_type": "code",
   "execution_count": null,
   "id": "04dd1cf7",
   "metadata": {},
   "outputs": [],
   "source": [
    "### Linear Trig Regression ###\n",
    "\n"
   ]
  },
  {
   "cell_type": "markdown",
   "id": "359b1d30-d74f-4f06-a96f-635429c86873",
   "metadata": {},
   "source": [
    "### Basic KNN Model"
   ]
  },
  {
   "cell_type": "markdown",
   "id": "802d9b72-a68e-49fd-ad7b-e79ea2c74476",
   "metadata": {},
   "source": [
    "#### KNR on dates"
   ]
  },
  {
   "cell_type": "code",
   "execution_count": null,
   "id": "1262909e",
   "metadata": {},
   "outputs": [],
   "source": [
    "# Add column for day of the year\n",
    "bike_train['DoY'] = bike_train['Date'].apply(lambda x : x.day_of_year)\n",
    "bike_test['DoY'] = bike_test['Date'].apply(lambda x : x.day_of_year)\n",
    "\n",
    "# Define 'distance' to be used in kNN\n",
    "def dist(x,y):\n",
    "    return min([abs(x-y),365-abs(x-y)])"
   ]
  },
  {
   "cell_type": "code",
   "execution_count": null,
   "id": "bc0fe2e8-25d1-4834-976a-42c4def97b23",
   "metadata": {},
   "outputs": [],
   "source": [
    "# Build example model with k=5\n",
    "model = KNeighborsRegressor(n_neighbors=5, metric=dist)\n",
    "model.fit(X=bike_train[['DoY']], y=bike_train[['adj_num_trips']]);"
   ]
  },
  {
   "cell_type": "code",
   "execution_count": null,
   "id": "8b6c640b-d39d-4e6d-ab5e-26de967d4a46",
   "metadata": {},
   "outputs": [],
   "source": [
    "# Plot predictions on training data\n",
    "\n",
    "y_train_pred = model.predict(X=bike_train[['DoY']])*bike_train[['trend_val']]\n",
    "\n",
    "ax = plt.subplots(figsize=(12,6))[1]\n",
    "ax.scatter(bike_train['Date'], bike_train['num_trips'], alpha=0.5, label='actual')\n",
    "ax.scatter(bike_train['Date'], y_train_pred, alpha=0.5, c='r', label='predicted')\n",
    "ax.set_xlabel('Date')\n",
    "ax.set_ylabel('Number of bike trips')\n",
    "ax.legend(loc='upper left')\n",
    "ax.set_title('kNN Predictions on Training Data (k=5)')\n",
    "plt.show()"
   ]
  },
  {
   "cell_type": "code",
   "execution_count": null,
   "id": "ffa8f644-d065-4800-bcc7-8c9e62ef6552",
   "metadata": {},
   "outputs": [],
   "source": [
    "# Cross-validate on training data to find optimal k\n",
    "\n",
    "from sklearn.model_selection import KFold\n",
    "\n",
    "kfold = KFold(n_splits=5, random_state=50, shuffle=True)\n",
    "\n",
    "k_vals = [j for j in range(1,10)] + [10*j for j in range(1,21)]\n",
    "\n",
    "i=0\n",
    "RMSE_train = np.zeros((5,len(k_vals)))\n",
    "RMSE_test = np.zeros((5,len(k_vals)))\n",
    "\n",
    "for train_index, test_index in kfold.split(bike_train):\n",
    "\n",
    "    CV_train = bike_train.iloc[train_index]\n",
    "    CV_test = bike_train.iloc[test_index]\n",
    "\n",
    "    for j in range(len(k_vals)):\n",
    "        model = KNeighborsRegressor(n_neighbors=k_vals[j], metric=dist)\n",
    "        model.fit(X=CV_train[['DoY']], y=CV_train[['adj_num_trips']])\n",
    "\n",
    "        pred_train = model.predict(X=CV_train[['DoY']])*CV_train[['trend_val']]\n",
    "        RMSE_train[i,j] = np.sqrt(mean_squared_error(y_true=CV_train[['num_trips']], y_pred=pred_train))\n",
    "\n",
    "        pred_test = model.predict(X=CV_test[['DoY']])*CV_test[['trend_val']]\n",
    "        RMSE_test[i,j] = np.sqrt(mean_squared_error(y_true=CV_test[['num_trips']], y_pred=pred_test))\n",
    "\n",
    "    i += 1"
   ]
  },
  {
   "cell_type": "code",
   "execution_count": null,
   "id": "56905168-8956-4fb2-b585-8f6074f03824",
   "metadata": {},
   "outputs": [],
   "source": [
    "average_RMSE_train= RMSE_train.mean(axis=0)\n",
    "average_RMSE_test = RMSE_test.mean(axis=0)"
   ]
  },
  {
   "cell_type": "code",
   "execution_count": null,
   "id": "3b3f68fe-7c6a-4d6b-ae8c-3185c9b27579",
   "metadata": {},
   "outputs": [],
   "source": [
    "ax = plt.subplots(figsize=(12,6))[1]\n",
    "ax.plot(k_vals[5:19], average_RMSE_train[5:19], label='training data')\n",
    "ax.plot(k_vals[5:19], average_RMSE_test[5:19], c='r', label='test data')\n",
    "ax.set_xlabel('k')\n",
    "ax.set_ylabel('Average RMSE')\n",
    "ax.set_title('kNN Cross-Validation (5 <= k <= 100)')\n",
    "ax.legend(loc='upper right')\n",
    "plt.show()"
   ]
  },
  {
   "cell_type": "code",
   "execution_count": null,
   "id": "a2ec3c9b-7c62-4a7f-9a21-86f274b3358a",
   "metadata": {},
   "outputs": [],
   "source": [
    "ax = plt.subplots(figsize=(12,6))[1]\n",
    "ax.plot(k_vals[18:], average_RMSE_train[18:], label='training data')\n",
    "ax.plot(k_vals[18:], average_RMSE_test[18:], c='r', label='test data')\n",
    "ax.set_xlabel('k')\n",
    "ax.set_ylabel('Average RMSE')\n",
    "ax.set_title('kNN Cross-Validation (100 <= k <= 200)')\n",
    "ax.legend(loc='upper left')\n",
    "plt.show()"
   ]
  },
  {
   "cell_type": "code",
   "execution_count": null,
   "id": "ad47dfa1-368b-473e-a96a-3375173024f2",
   "metadata": {},
   "outputs": [],
   "source": [
    "# Build final KNN model with k=60\n",
    "\n",
    "model = KNeighborsRegressor(n_neighbors=60, metric=dist)\n",
    "model.fit(X=bike_train[['DoY']], y=bike_train[['adj_num_trips']]);"
   ]
  },
  {
   "cell_type": "code",
   "execution_count": null,
   "id": "84115ed6-20d5-4702-aa8b-d3f353c65b54",
   "metadata": {},
   "outputs": [],
   "source": [
    "# Calculate train and test RMSEs\n",
    "\n",
    "pred_train = model.predict(X=bike_train[['DoY']])*bike_train[['trend_val']]\n",
    "RMSE_train = np.sqrt(mean_squared_error(y_true=bike_train[['num_trips']], y_pred=pred_train))\n",
    "pred_test = model.predict(X=bike_test[['DoY']])*bike_test[['trend_val']]\n",
    "RMSE_test = np.sqrt(mean_squared_error(y_true=bike_test[['num_trips']], y_pred=pred_test))\n",
    "\n",
    "print('Training RMSE:', RMSE_train)\n",
    "print('Test RMSE:', RMSE_test)"
   ]
  },
  {
   "cell_type": "markdown",
   "id": "9418137f-6729-4623-ac5c-0e63ca37421a",
   "metadata": {},
   "source": [
    "### KNR on weather features"
   ]
  },
  {
   "cell_type": "markdown",
   "id": "37066786-de4e-405d-ad34-ebaa9fb3933e",
   "metadata": {},
   "source": [
    "#### A model comparison function"
   ]
  },
  {
   "cell_type": "markdown",
   "id": "32a63236-54da-4feb-9772-bf1645ef1dc8",
   "metadata": {},
   "source": [
    " The following function compares different modeling approaches\n",
    "\n",
    "- The ``model`` argument takes a model object, e.g., LinearRegression, KNR\n",
    "- The variable ``X_train`` depends on how we select the features \n",
    "- The variable ``y_train`` depends on how we detrend the data\n",
    "- ``n`` is the number of cross-validations\n",
    "\n",
    "The function returns the average root MSE over the validation sets, predicted values, and the residues."
   ]
  },
  {
   "cell_type": "code",
   "execution_count": null,
   "id": "06a24da5-f000-4fe2-8730-88f7422ed66c",
   "metadata": {},
   "outputs": [],
   "source": [
    "def test(model, X_train, y_train, n):\n",
    "    \n",
    "    kfold = KFold(n_splits = n, shuffle = True, random_state = 50)\n",
    "    total_rmse = 0\n",
    "    \n",
    "    for train_index, test_index in kfold.split(X_train):\n",
    "    \n",
    "        X_tt = X_train.iloc[train_index]\n",
    "        y_tt = y_train.iloc[train_index]\n",
    "    \n",
    "        X_val = X_train.iloc[test_index]\n",
    "        y_val = y_train.iloc[test_index]\n",
    "    \n",
    "        ## Fit the model\n",
    "        model.fit(X_tt,y_tt)\n",
    "\n",
    "        # Make the prediction\n",
    "        \n",
    "        y_pred = model.predict(X_val)\n",
    "        rmse = np.sqrt(mean_squared_error(y_val, y_pred))\n",
    "\n",
    "        total_rmse += rmse\n",
    "\n",
    "    predict_values = model.predict(X_train)\n",
    "    residues = y_train - model.predict(X_train)\n",
    "    \n",
    "    return total_rmse/n, model.predict(X_train), residues"
   ]
  },
  {
   "cell_type": "markdown",
   "id": "2c15d263-431a-49fb-a3a0-c2348e2da328",
   "metadata": {},
   "source": [
    "#### A list of KNR models"
   ]
  },
  {
   "cell_type": "code",
   "execution_count": null,
   "id": "acdab841-582b-42cb-a5d3-54e7360671be",
   "metadata": {},
   "outputs": [],
   "source": [
    "knr_euc = [KNeighborsRegressor(i, metric='euclidean') for i in list(range(2, 50))]\n",
    "knr_man = [KNeighborsRegressor(i, metric='manhattan') for i in list(range(2, 50))]\n",
    "\n",
    "knr_models = knr_euc + knr_man"
   ]
  },
  {
   "cell_type": "markdown",
   "id": "e45fe8fc-2553-4fda-b6e9-07dd78141799",
   "metadata": {},
   "source": [
    "#### Defining ``X_train`` and ``y_train``"
   ]
  },
  {
   "cell_type": "code",
   "execution_count": 2,
   "id": "734adb53-5bcc-4ba5-83bb-dc9b531acfa2",
   "metadata": {},
   "outputs": [],
   "source": [
    "features = ['day_length', 'mean_dep_temp', 'total_precip']"
   ]
  },
  {
   "cell_type": "code",
   "execution_count": null,
   "id": "6884a305-85e4-40ea-a28c-c4c8c3e72eb5",
   "metadata": {},
   "outputs": [],
   "source": [
    "X_train = bike_train[features].copy()\n",
    "\n",
    "# Scale the data\n",
    "scaler = StandardScaler().set_output(transform='pandas')\n",
    "X_train_scaled = scaler.fit_transform(X_train)\n",
    "\n",
    "# The y_train values corresponding to different detrending methods\n",
    "y_train = bike_train['adj_num_trips']"
   ]
  },
  {
   "cell_type": "markdown",
   "id": "2b85c7b2-06ba-4ca0-9986-8f4f8185cc95",
   "metadata": {},
   "source": [
    "#### Model comparison"
   ]
  },
  {
   "cell_type": "code",
   "execution_count": null,
   "id": "0bb16474-edfe-411b-8c49-f0ef309d7582",
   "metadata": {},
   "outputs": [],
   "source": [
    "%%time\n",
    "\n",
    "rmses = [test(model, X_train_scaled, y_train, 5)[0] for model in knr_models]"
   ]
  },
  {
   "cell_type": "code",
   "execution_count": null,
   "id": "76ae5b98-59a8-48ce-a1e9-6ccda5b4ca73",
   "metadata": {},
   "outputs": [],
   "source": [
    "rmse_table = pd.DataFrame(rmses, columns=['rmse'])\n",
    "\n",
    "rmse_table.index = [f'model_{i+1}' for i in range(len(rmses))] \n",
    "\n",
    "# Finding the minimum rmse and its index\n",
    "min_value = rmse_table.min().min()\n",
    "min_index = rmse_table.stack().idxmin()\n",
    "\n",
    "print(f'The model with the least average root MSE is {min_index[0]}. Its average RMSE is {min_value:.4f}')"
   ]
  },
  {
   "cell_type": "markdown",
   "id": "0d54e686-ef80-4c82-b02f-6c954a74b4c7",
   "metadata": {},
   "source": [
    "#### Plotting the predicted values and the residues of the candidate model"
   ]
  },
  {
   "cell_type": "code",
   "execution_count": null,
   "id": "b453eaf1-067b-4701-b563-7d9e1999c68d",
   "metadata": {},
   "outputs": [],
   "source": [
    "nice_model = knr_models[87]\n",
    "print(nice_model)\n",
    "\n",
    "model_data = test(nice_model, X_train_scaled, y_train, 5)\n",
    "\n",
    "# Plotting the predicated data\n",
    "plt.figure(figsize=(15, 5))\n",
    "plt.scatter(X_train_scaled.index, y_train, label='Actual', color = 'blue', alpha = 0.3)\n",
    "plt.scatter(X_train_scaled.index, model_data[1], label='Predicted', color='red', alpha = 0.3)\n",
    "plt.show()"
   ]
  },
  {
   "cell_type": "code",
   "execution_count": null,
   "id": "857fd53c-1259-4b45-82ea-7ad4d7612238",
   "metadata": {},
   "outputs": [],
   "source": [
    "# Plotting the residues\n",
    "plt.figure(figsize=(15, 5))\n",
    "plt.scatter(model_data[1], model_data[2], alpha = 0.37)\n",
    "plt.xlabel('Predicted values')\n",
    "plt.ylabel('Residues')\n",
    "plt.show()"
   ]
  },
  {
   "cell_type": "markdown",
   "id": "54d45866-ab92-408a-a46e-7d6bf7d7adfe",
   "metadata": {},
   "source": [
    "#### Performance on test data"
   ]
  },
  {
   "cell_type": "code",
   "execution_count": null,
   "id": "23e489da-4bbe-472e-ac6b-f41e817b87a2",
   "metadata": {},
   "outputs": [],
   "source": [
    "X_test = bike_test[features].copy()\n",
    "X_test_scaled = scaler.fit_transform(X_test)\n",
    "\n",
    "pred_val = nice_model.predict(X_test_scaled) * bike_test['trend_val']\n",
    "\n",
    "plt.figure(figsize=(15, 5))\n",
    "plt.scatter(X_test.index, bike_test['num_trips'], label='Actual', color = 'blue')\n",
    "plt.scatter(X_test.index, pred_val, label='Predicted', color='red')\n",
    "plt.legend()\n",
    "plt.show()"
   ]
  },
  {
   "cell_type": "code",
   "execution_count": null,
   "id": "e9b17d7c-4f4c-4520-8769-35d96cf1009b",
   "metadata": {},
   "outputs": [],
   "source": [
    "# Calculate the root mean square error\n",
    "np.sqrt(mean_squared_error(pred_val,bike_test['num_trips']))"
   ]
  },
  {
   "cell_type": "code",
   "execution_count": null,
   "id": "d9779521",
   "metadata": {},
   "outputs": [],
   "source": [
    "### Other Base Regression Models ###"
   ]
  },
  {
   "cell_type": "code",
   "execution_count": null,
   "id": "bd82619f",
   "metadata": {},
   "outputs": [],
   "source": [
    "### Compare Base Models ###"
   ]
  },
  {
   "cell_type": "markdown",
   "id": "54f6c0e4-84c5-4f2a-a204-9baf27fda85a",
   "metadata": {},
   "source": [
    "# Other Models"
   ]
  },
  {
   "cell_type": "code",
   "execution_count": null,
   "id": "1b9dd446",
   "metadata": {},
   "outputs": [],
   "source": [
    "### Fourier Regression ###"
   ]
  },
  {
   "cell_type": "markdown",
   "id": "7284d834",
   "metadata": {},
   "source": [
    "## Tree Based Models"
   ]
  },
  {
   "cell_type": "code",
   "execution_count": null,
   "id": "7771f42b",
   "metadata": {},
   "outputs": [],
   "source": [
    "### Tree ###\n",
    "# adapt dataframe name if not consistent with the variable names this notebook defined\n",
    "# bike_train = \n",
    "# bike_test = "
   ]
  },
  {
   "cell_type": "code",
   "execution_count": null,
   "id": "890c73cb",
   "metadata": {},
   "outputs": [],
   "source": [
    "### Decision Tree Regressor ###\n",
    "from sklearn.tree import DecisionTreeRegressor"
   ]
  },
  {
   "cell_type": "code",
   "execution_count": null,
   "id": "4de6defe",
   "metadata": {},
   "outputs": [],
   "source": [
    "### Decision Tree Regressor ###\n",
    "\n",
    "tree = DecisionTreeRegressor(max_depth = 6, random_state = 16)\n",
    "tree.fit(bike_train[['max_temp', 'total_precip']], bike_train['adj_num_trips'])\n",
    "pred = tree.predict(bike_test[['max_temp', 'total_precip']])\n",
    "fig, ax = plt.subplots(figsize=(12,6))\n",
    "sns.scatterplot(x=bike_test['Date'], y=bike_test['num_trips'], color='blue', ax=ax, label='true value')\n",
    "sns.scatterplot(x=bike_test['Date'], y=pred*bike_test['trend_val'], color='orange', ax=ax, alpha=0.8, label='predicted value')\n",
    "\n",
    "plt.title('Model Prediction on Test Data')\n",
    "plt.legend()\n",
    "plt.show()"
   ]
  },
  {
   "cell_type": "code",
   "execution_count": null,
   "id": "f3efa809",
   "metadata": {},
   "outputs": [],
   "source": [
    "print('The rmse of the decision tree regressor model on test data is ', np.sqrt(mean_squared_error(bike_test['num_trips'], pred*bike_test['trend_val'])))"
   ]
  },
  {
   "cell_type": "code",
   "execution_count": null,
   "id": "ae4882ff",
   "metadata": {},
   "outputs": [],
   "source": [
    "### Gradient Boosting ###\n",
    "%pip install xgboost"
   ]
  },
  {
   "cell_type": "code",
   "execution_count": null,
   "id": "524da10e",
   "metadata": {},
   "outputs": [],
   "source": [
    "### Gradient Boosting ###\n",
    "from xgboost import XGBRegressor"
   ]
  },
  {
   "cell_type": "code",
   "execution_count": null,
   "id": "c8d16ea4",
   "metadata": {},
   "outputs": [],
   "source": [
    "xgb_reg = XGBRegressor(learning_rate=0.1, max_depth=1, n_estimators=200, random_state = 16)\n",
    "xgb_reg.fit(bike_train[['max_temp', 'total_precip', 'day_length', 'max_gust']], bike_train['adj_num_trips'])\n",
    "pred = xgb_reg.predict(bike_test[['max_temp', 'total_precip', 'day_length', 'max_gust']])\n",
    "fig, ax = plt.subplots(figsize=(12,6))\n",
    "sns.scatterplot(x=bike_test['Date'], y=bike_test['num_trips'], color='blue', ax=ax, label='true value')\n",
    "sns.scatterplot(x=bike_test['Date'], y=pred*bike_test['trend_val'], color='orange', ax=ax, alpha=0.8, label='predicted value')\n",
    "ax.set_ylim(bottom=0, top=9000)\n",
    "plt.title('XGBoost Model Prediction on Test Data')\n",
    "plt.legend()\n",
    "plt.show()"
   ]
  },
  {
   "cell_type": "code",
   "execution_count": null,
   "id": "96283da0",
   "metadata": {},
   "outputs": [],
   "source": [
    "print('The rmse of xgb boost model on test data is ', np.sqrt(mean_squared_error(pred*bike_test['trend_val'], bike_test['num_trips'])))"
   ]
  },
  {
   "cell_type": "code",
   "execution_count": null,
   "id": "6e315b89-0064-405a-8810-6811fc23c180",
   "metadata": {},
   "outputs": [],
   "source": [
    "### AMIRA ###\n",
    "# Imports\n",
    "from statsmodels.graphics.tsaplots import plot_acf, plot_pacf\n",
    "import statsmodels.tsa.api as sm\n",
    "from pmdarima import auto_arima\n",
    "\n",
    "# Plot ACF and PACF\n",
    "\n",
    "fig, ax = plt.subplots(1,2,figsize = (10,5))\n",
    "plot_acf(df.total_num_trips, ax = ax[0])\n",
    "plot_pacf(df.total_num_trips, ax = ax[1])\n",
    "\n",
    "ax.set_xlabel('Lag')\n",
    "ax.set_ylabel('Correlation')\n",
    "ax.set_title('ACF and PACF of Total Number of Trips')\n",
    "ax[0].set_title('ACF')\n",
    "ax[1].set_title('PACF')\n",
    "\n",
    "plt.show()\n",
    "\n",
    "# Chose best ARIMA Model hyperparameters\n",
    "\n",
    "residuals = y_train - best_model.predict(X_train)\n",
    "\n",
    "auto_arima(residuals, trace=True)\n",
    "\n",
    "# Fit ARIMA Model\n",
    "arima_model = sm.ARIMA(residuals, order=(2,1,1)).fit()\n",
    "arima.summary()\n",
    "\n",
    "# Fit SARIMA Model\n",
    "\n",
    "sarima_model = sm.SARIMAX(y_train, order=(2,1,1), seasonal_order=(1,1,1,7)).fit()\n",
    "sarima_model.summary()\n",
    "\n",
    "\n",
    "# Plot Predictions\n",
    "\n",
    "plt.scatter(df.Date,residuals,\n",
    "            color='k',\n",
    "            s=5,\n",
    "            label='residuals'\n",
    "            )\n",
    "\n",
    "plt.scatter(df.Date,sarima_model.fittedvalues,\n",
    "            color='r',\n",
    "            s=5,\n",
    "            label='SARIMA_preds'\n",
    "            )\n",
    " \n",
    "plt.scatter(df.Date,arima_model.fittedvalues,\n",
    "            color='b',\n",
    "            s=5,\n",
    "            label='ARIMA_preds'\n",
    "            )\n",
    "\n",
    "plt.xlabel('Date')\n",
    "plt.ylabel('Residual Values')\n",
    "plt.legend()\n",
    "plt.show()"
   ]
  },
  {
   "cell_type": "code",
   "execution_count": null,
   "id": "ce1e0d99",
   "metadata": {},
   "outputs": [],
   "source": [
    "### SAMIRA ###"
   ]
  },
  {
   "cell_type": "markdown",
   "id": "1fc6996e-e7a5-4fca-9461-d0f712f02ef5",
   "metadata": {},
   "source": [
    "# Comparison and Model Selection"
   ]
  },
  {
   "cell_type": "code",
   "execution_count": null,
   "id": "ed00d969-79be-4e8e-9969-9bc68199ba5a",
   "metadata": {},
   "outputs": [],
   "source": []
  },
  {
   "cell_type": "markdown",
   "id": "af8a5414-c0cf-4ab3-bea7-92c9b80c7263",
   "metadata": {},
   "source": [
    "# Model Interpretation"
   ]
  },
  {
   "cell_type": "code",
   "execution_count": null,
   "id": "dfa492a2-a278-4c3c-ab67-1c56142d824b",
   "metadata": {},
   "outputs": [],
   "source": []
  },
  {
   "cell_type": "markdown",
   "id": "b6120df0-0de2-481e-912c-d3029a54e997",
   "metadata": {},
   "source": [
    "# Conclusions and Future Directions"
   ]
  },
  {
   "cell_type": "code",
   "execution_count": null,
   "id": "573ef763-ab2e-4a52-a8f3-70ccb2175065",
   "metadata": {},
   "outputs": [],
   "source": []
  }
 ],
 "metadata": {
  "kernelspec": {
   "display_name": "Python 3 (ipykernel)",
   "language": "python",
   "name": "python3"
  },
  "language_info": {
   "codemirror_mode": {
    "name": "ipython",
    "version": 3
   },
   "file_extension": ".py",
   "mimetype": "text/x-python",
   "name": "python",
   "nbconvert_exporter": "python",
   "pygments_lexer": "ipython3",
   "version": "3.11.7"
  }
 },
 "nbformat": 4,
 "nbformat_minor": 5
}
