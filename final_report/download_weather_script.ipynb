{
 "cells": [
  {
   "cell_type": "markdown",
   "id": "42a86865",
   "metadata": {},
   "source": [
    "# Downloading Weather Data"
   ]
  },
  {
   "cell_type": "markdown",
   "id": "75663e85",
   "metadata": {},
   "source": [
    "Weather condition can potentially affect the usage of bikes. For example, people might be less inclined to ride a bike in heavy rain than in a sunny day. Thus, having access to weather data, including temperature, rain amount, visibility, etc, could prove useful."
   ]
  },
  {
   "cell_type": "markdown",
   "id": "3020fd66",
   "metadata": {},
   "source": [
    "In this notebook, we will download weather data from https://climate.weather.gc.ca/. There are two forms of data avaiable based on the time interval: daily weather data and hourly weather data. We will download, examine and clean them separately."
   ]
  },
  {
   "cell_type": "code",
   "execution_count": 14,
   "id": "ffbff113",
   "metadata": {},
   "outputs": [],
   "source": [
    "import requests\n",
    "import pandas as pd\n",
    "import numpy as np\n",
    "import matplotlib.pyplot as plt\n",
    "import seaborn as sns\n",
    "import os"
   ]
  },
  {
   "cell_type": "markdown",
   "id": "75d8c505",
   "metadata": {},
   "source": [
    "Daily data contains the following potentially useful information, including max/min temperature and total rain amount on a daily basis. "
   ]
  },
  {
   "cell_type": "markdown",
   "id": "3d199918",
   "metadata": {},
   "source": [
    "Compared to daily data, an advantage of using hourly data is that our bike usage data is also on a hourly basis. Having access to hourly data might reveal relation between weather condition and bike usage. However, one drawback of hourly data is a significant larger count of missing values. Another problem is that \"Total Rain (mm)\" is not avaiable in hourly data."
   ]
  },
  {
   "cell_type": "markdown",
   "id": "8677b871",
   "metadata": {},
   "source": [
    "## Script"
   ]
  },
  {
   "cell_type": "markdown",
   "id": "852bba90",
   "metadata": {},
   "source": [
    "The daily data can be downloaded from the following url:\n",
    "https://climate.weather.gc.ca/climate_data/bulk_data_e.html?format=csv&stationID=1706&Year=${year}&Month=${month}&Day=14&timeframe=2&submit= Download+Data"
   ]
  },
  {
   "cell_type": "code",
   "execution_count": 27,
   "id": "ac2cd7d7",
   "metadata": {},
   "outputs": [],
   "source": [
    "#define function which downloads all daily weather data in the specified range of years and months\n",
    "#years must be a list of strings of years, e.g. ['2023','2024']\n",
    "#months must be a list of strings of months, e.g. ['01,'02','03']\n",
    "#station_id is the Station ID of the weather observer. Vancouver Intl A has station ID 51442.\n",
    "\n",
    "def download_weather(years,months=[],station_id='51442'):\n",
    "\n",
    "    for year in years:\n",
    "        if months == []:\n",
    "            filename = '../data/weather_data/' + year + '_Daily.csv'\n",
    "            if os.path.exists(filename):\n",
    "                print(filename+' already exists. No download initiated.')\n",
    "            else:\n",
    "                url = f\"https://climate.weather.gc.ca/climate_data/bulk_data_e.html?format=csv&stationID={station_id}&Year={year}&Day=14&timeframe=2&submit= Download+Data\"\n",
    "                response = requests.get(url)\n",
    "                if response.status_code != 200:\n",
    "                    print(\"unable to download daily data for \"+year+f\". Error code: {response.status_code}\")\n",
    "                else:\n",
    "                    with open(filename,'wb') as f:\n",
    "                        for chunk in response.iter_content(chunk_size=1024):\n",
    "                            if chunk:\n",
    "                                f.write(chunk)\n",
    "                    print(filename + ' downloaded.')\n",
    "                    response.close()\n",
    "        else:\n",
    "            for month in months:\n",
    "                filename = '../data/weather_data/' + year + '-' + month +'_Hourly.csv'\n",
    "                if os.path.exists(filename):\n",
    "                    print(filename + 'already exists. No download initiated.')\n",
    "                else:\n",
    "                    url = f\"https://climate.weather.gc.ca/climate_data/bulk_data_e.html?format=csv&stationID={station_id}&Year={year}&Month={month}&Day=14&timeframe=1&submit= Download+Data\"\n",
    "                    response = requests.get(url)\n",
    "                    if response.status_code != 200:\n",
    "                        print(\"unable to download hourly data for \" + \"-\".join(year,month) + f\". Error code: {response.status_code}\")\n",
    "                    else:\n",
    "                        with open(filename,'wb') as f:\n",
    "                            for chunk in response.iter_content(chunk_size=1024):\n",
    "                                if chunk:\n",
    "                                    f.write(chunk)\n",
    "                        print(filename + ' downloaded.')\n",
    "                        response.close()"
   ]
  },
  {
   "cell_type": "markdown",
   "id": "fb59734a",
   "metadata": {},
   "source": [
    "## Download Data "
   ]
  },
  {
   "cell_type": "code",
   "execution_count": 23,
   "id": "3bc9569f",
   "metadata": {},
   "outputs": [],
   "source": [
    "#Set the range of dates\n",
    "years = ['2017','2018','2019','2020','2021','2022','2023','2024']\n",
    "months = ['01','02','03','04','05','06','07','08','09','10','11','12']"
   ]
  },
  {
   "cell_type": "code",
   "execution_count": 24,
   "id": "3befe2c6",
   "metadata": {},
   "outputs": [
    {
     "name": "stdout",
     "output_type": "stream",
     "text": [
      "Start downloading daily weather data.\n",
      "2017_Daily.csv downloaded.\n",
      "Start downloading daily weather data.\n",
      "2018_Daily.csv downloaded.\n",
      "Start downloading daily weather data.\n",
      "2019_Daily.csv downloaded.\n",
      "Start downloading daily weather data.\n",
      "2020_Daily.csv downloaded.\n",
      "Start downloading daily weather data.\n",
      "2021_Daily.csv downloaded.\n",
      "Start downloading daily weather data.\n",
      "2022_Daily.csv downloaded.\n",
      "Start downloading daily weather data.\n",
      "2023_Daily.csv downloaded.\n",
      "Start downloading daily weather data.\n",
      "2024_Daily.csv downloaded.\n"
     ]
    }
   ],
   "source": [
    "#Download the daily weather data \n",
    "download_weather(years)"
   ]
  },
  {
   "cell_type": "code",
   "execution_count": 28,
   "id": "e3a6792c",
   "metadata": {},
   "outputs": [
    {
     "name": "stdout",
     "output_type": "stream",
     "text": [
      "2017-01_Hourly.csv downloaded.\n",
      "2017-02_Hourly.csv downloaded.\n",
      "2017-03_Hourly.csv downloaded.\n",
      "2017-04_Hourly.csv downloaded.\n",
      "2017-05_Hourly.csv downloaded.\n",
      "2017-06_Hourly.csv downloaded.\n",
      "2017-07_Hourly.csv downloaded.\n",
      "2017-08_Hourly.csv downloaded.\n",
      "2017-09_Hourly.csv downloaded.\n",
      "2017-10_Hourly.csv downloaded.\n",
      "2017-11_Hourly.csv downloaded.\n",
      "2017-12_Hourly.csv downloaded.\n",
      "2018-01_Hourly.csv downloaded.\n",
      "2018-02_Hourly.csv downloaded.\n",
      "2018-03_Hourly.csv downloaded.\n",
      "2018-04_Hourly.csv downloaded.\n",
      "2018-05_Hourly.csv downloaded.\n",
      "2018-06_Hourly.csv downloaded.\n",
      "2018-07_Hourly.csv downloaded.\n",
      "2018-08_Hourly.csv downloaded.\n",
      "2018-09_Hourly.csv downloaded.\n",
      "2018-10_Hourly.csv downloaded.\n",
      "2018-11_Hourly.csv downloaded.\n",
      "2018-12_Hourly.csv downloaded.\n",
      "2019-01_Hourly.csv downloaded.\n",
      "2019-02_Hourly.csv downloaded.\n",
      "2019-03_Hourly.csv downloaded.\n",
      "2019-04_Hourly.csv downloaded.\n",
      "2019-05_Hourly.csv downloaded.\n",
      "2019-06_Hourly.csv downloaded.\n",
      "2019-07_Hourly.csv downloaded.\n",
      "2019-08_Hourly.csv downloaded.\n",
      "2019-09_Hourly.csv downloaded.\n",
      "2019-10_Hourly.csv downloaded.\n",
      "2019-11_Hourly.csv downloaded.\n",
      "2019-12_Hourly.csv downloaded.\n",
      "2020-01_Hourly.csv downloaded.\n",
      "2020-02_Hourly.csv downloaded.\n",
      "2020-03_Hourly.csv downloaded.\n",
      "2020-04_Hourly.csv downloaded.\n",
      "2020-05_Hourly.csv downloaded.\n",
      "2020-06_Hourly.csv downloaded.\n",
      "2020-07_Hourly.csv downloaded.\n",
      "2020-08_Hourly.csv downloaded.\n",
      "2020-09_Hourly.csv downloaded.\n",
      "2020-10_Hourly.csv downloaded.\n",
      "2020-11_Hourly.csv downloaded.\n",
      "2020-12_Hourly.csv downloaded.\n",
      "2021-01_Hourly.csv downloaded.\n",
      "2021-02_Hourly.csv downloaded.\n",
      "2021-03_Hourly.csv downloaded.\n",
      "2021-04_Hourly.csv downloaded.\n",
      "2021-05_Hourly.csv downloaded.\n",
      "2021-06_Hourly.csv downloaded.\n",
      "2021-07_Hourly.csv downloaded.\n",
      "2021-08_Hourly.csv downloaded.\n",
      "2021-09_Hourly.csv downloaded.\n",
      "2021-10_Hourly.csv downloaded.\n",
      "2021-11_Hourly.csv downloaded.\n",
      "2021-12_Hourly.csv downloaded.\n",
      "2022-01_Hourly.csv downloaded.\n",
      "2022-02_Hourly.csv downloaded.\n",
      "2022-03_Hourly.csv downloaded.\n",
      "2022-04_Hourly.csv downloaded.\n",
      "2022-05_Hourly.csv downloaded.\n",
      "2022-06_Hourly.csv downloaded.\n",
      "2022-07_Hourly.csv downloaded.\n",
      "2022-08_Hourly.csv downloaded.\n",
      "2022-09_Hourly.csv downloaded.\n",
      "2022-10_Hourly.csv downloaded.\n",
      "2022-11_Hourly.csv downloaded.\n",
      "2022-12_Hourly.csv downloaded.\n",
      "2023-01_Hourly.csv downloaded.\n",
      "2023-02_Hourly.csv downloaded.\n",
      "2023-03_Hourly.csv downloaded.\n",
      "2023-04_Hourly.csv downloaded.\n",
      "2023-05_Hourly.csv downloaded.\n",
      "2023-06_Hourly.csv downloaded.\n",
      "2023-07_Hourly.csv downloaded.\n",
      "2023-08_Hourly.csv downloaded.\n",
      "2023-09_Hourly.csv downloaded.\n",
      "2023-10_Hourly.csv downloaded.\n",
      "2023-11_Hourly.csv downloaded.\n",
      "2023-12_Hourly.csv downloaded.\n",
      "2024-01_Hourly.csv downloaded.\n",
      "2024-02_Hourly.csv downloaded.\n",
      "2024-03_Hourly.csv downloaded.\n",
      "2024-04_Hourly.csv downloaded.\n",
      "2024-05_Hourly.csv downloaded.\n",
      "2024-06_Hourly.csv downloaded.\n",
      "2024-07_Hourly.csv downloaded.\n",
      "2024-08_Hourly.csv downloaded.\n",
      "2024-09_Hourly.csv downloaded.\n",
      "2024-10_Hourly.csv downloaded.\n",
      "2024-11_Hourly.csv downloaded.\n",
      "2024-12_Hourly.csv downloaded.\n"
     ]
    }
   ],
   "source": [
    "download_weather(years,months)"
   ]
  }
 ],
 "metadata": {
  "kernelspec": {
   "display_name": "Python 3 (ipykernel)",
   "language": "python",
   "name": "python3"
  },
  "language_info": {
   "codemirror_mode": {
    "name": "ipython",
    "version": 3
   },
   "file_extension": ".py",
   "mimetype": "text/x-python",
   "name": "python",
   "nbconvert_exporter": "python",
   "pygments_lexer": "ipython3",
   "version": "3.11.7"
  }
 },
 "nbformat": 4,
 "nbformat_minor": 5
}
