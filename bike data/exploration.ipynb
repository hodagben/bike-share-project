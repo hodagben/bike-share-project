{
 "cells": [
  {
   "cell_type": "code",
   "execution_count": 1,
   "id": "2e4b883a-097d-464b-b375-0c903fb07b5e",
   "metadata": {},
   "outputs": [],
   "source": [
    "import pandas as pd"
   ]
  },
  {
   "cell_type": "code",
   "execution_count": 2,
   "id": "d9b64de6-4486-4840-92e6-cbb653618744",
   "metadata": {},
   "outputs": [
    {
     "data": {
      "text/html": [
       "<div>\n",
       "<style scoped>\n",
       "    .dataframe tbody tr th:only-of-type {\n",
       "        vertical-align: middle;\n",
       "    }\n",
       "\n",
       "    .dataframe tbody tr th {\n",
       "        vertical-align: top;\n",
       "    }\n",
       "\n",
       "    .dataframe thead th {\n",
       "        text-align: right;\n",
       "    }\n",
       "</style>\n",
       "<table border=\"1\" class=\"dataframe\">\n",
       "  <thead>\n",
       "    <tr style=\"text-align: right;\">\n",
       "      <th></th>\n",
       "      <th>Departure</th>\n",
       "      <th>Return</th>\n",
       "      <th>Bike</th>\n",
       "      <th>Electric bike</th>\n",
       "      <th>Departure station</th>\n",
       "      <th>Return station</th>\n",
       "      <th>Membership type</th>\n",
       "      <th>Covered distance (m)</th>\n",
       "      <th>Duration (sec.)</th>\n",
       "      <th>Departure temperature (C)</th>\n",
       "      <th>Return temperature (C)</th>\n",
       "      <th>Stopover duration (sec.)</th>\n",
       "      <th>Number of stopovers</th>\n",
       "    </tr>\n",
       "  </thead>\n",
       "  <tbody>\n",
       "    <tr>\n",
       "      <th>0</th>\n",
       "      <td>2024-05-01 0:00</td>\n",
       "      <td>2024-05-01 0:00</td>\n",
       "      <td>30250.0</td>\n",
       "      <td>True</td>\n",
       "      <td>0002 Burrard Station (Melville &amp; Dunsmuir)</td>\n",
       "      <td>0266 St Catherines &amp; 7th</td>\n",
       "      <td>365 Corporate Plus</td>\n",
       "      <td>4322.0</td>\n",
       "      <td>1064</td>\n",
       "      <td>7</td>\n",
       "      <td>11</td>\n",
       "      <td>0</td>\n",
       "      <td>0</td>\n",
       "    </tr>\n",
       "    <tr>\n",
       "      <th>1</th>\n",
       "      <td>2024-05-01 0:00</td>\n",
       "      <td>2024-05-01 0:00</td>\n",
       "      <td>30643.0</td>\n",
       "      <td>True</td>\n",
       "      <td>0310 Jervis &amp; Robson</td>\n",
       "      <td>0190 Melville &amp; Bute</td>\n",
       "      <td>365 Day Pass Plus</td>\n",
       "      <td>501.0</td>\n",
       "      <td>108</td>\n",
       "      <td>5</td>\n",
       "      <td>9</td>\n",
       "      <td>0</td>\n",
       "      <td>0</td>\n",
       "    </tr>\n",
       "    <tr>\n",
       "      <th>2</th>\n",
       "      <td>2024-05-01 0:00</td>\n",
       "      <td>2024-05-01 0:00</td>\n",
       "      <td>1145.0</td>\n",
       "      <td>False</td>\n",
       "      <td>0074 10th &amp; Main</td>\n",
       "      <td>0176 10th &amp; Ontario</td>\n",
       "      <td>365 Day Pass Standard</td>\n",
       "      <td>222.0</td>\n",
       "      <td>129</td>\n",
       "      <td>10</td>\n",
       "      <td>9</td>\n",
       "      <td>0</td>\n",
       "      <td>0</td>\n",
       "    </tr>\n",
       "    <tr>\n",
       "      <th>3</th>\n",
       "      <td>2024-05-01 0:00</td>\n",
       "      <td>2024-05-01 0:00</td>\n",
       "      <td>1276.0</td>\n",
       "      <td>False</td>\n",
       "      <td>0230 Alexander &amp; Railway</td>\n",
       "      <td>0052 Cambie &amp; Water</td>\n",
       "      <td>365 Day Pass Standard</td>\n",
       "      <td>1388.0</td>\n",
       "      <td>411</td>\n",
       "      <td>9</td>\n",
       "      <td>11</td>\n",
       "      <td>0</td>\n",
       "      <td>0</td>\n",
       "    </tr>\n",
       "    <tr>\n",
       "      <th>4</th>\n",
       "      <td>2024-05-01 0:00</td>\n",
       "      <td>2024-05-01 0:00</td>\n",
       "      <td>30705.0</td>\n",
       "      <td>True</td>\n",
       "      <td>0196 Hornby &amp; Drake</td>\n",
       "      <td>0140 Burrard &amp; 7th</td>\n",
       "      <td>30 Day Pass</td>\n",
       "      <td>2153.0</td>\n",
       "      <td>506</td>\n",
       "      <td>6</td>\n",
       "      <td>3</td>\n",
       "      <td>0</td>\n",
       "      <td>0</td>\n",
       "    </tr>\n",
       "  </tbody>\n",
       "</table>\n",
       "</div>"
      ],
      "text/plain": [
       "         Departure           Return     Bike  Electric bike  \\\n",
       "0  2024-05-01 0:00  2024-05-01 0:00  30250.0           True   \n",
       "1  2024-05-01 0:00  2024-05-01 0:00  30643.0           True   \n",
       "2  2024-05-01 0:00  2024-05-01 0:00   1145.0          False   \n",
       "3  2024-05-01 0:00  2024-05-01 0:00   1276.0          False   \n",
       "4  2024-05-01 0:00  2024-05-01 0:00  30705.0           True   \n",
       "\n",
       "                            Departure station            Return station  \\\n",
       "0  0002 Burrard Station (Melville & Dunsmuir)  0266 St Catherines & 7th   \n",
       "1                        0310 Jervis & Robson      0190 Melville & Bute   \n",
       "2                            0074 10th & Main       0176 10th & Ontario   \n",
       "3                    0230 Alexander & Railway       0052 Cambie & Water   \n",
       "4                         0196 Hornby & Drake        0140 Burrard & 7th   \n",
       "\n",
       "         Membership type  Covered distance (m)  Duration (sec.)  \\\n",
       "0     365 Corporate Plus                4322.0             1064   \n",
       "1      365 Day Pass Plus                 501.0              108   \n",
       "2  365 Day Pass Standard                 222.0              129   \n",
       "3  365 Day Pass Standard                1388.0              411   \n",
       "4            30 Day Pass                2153.0              506   \n",
       "\n",
       "   Departure temperature (C)  Return temperature (C)  \\\n",
       "0                          7                      11   \n",
       "1                          5                       9   \n",
       "2                         10                       9   \n",
       "3                          9                      11   \n",
       "4                          6                       3   \n",
       "\n",
       "   Stopover duration (sec.)  Number of stopovers  \n",
       "0                         0                    0  \n",
       "1                         0                    0  \n",
       "2                         0                    0  \n",
       "3                         0                    0  \n",
       "4                         0                    0  "
      ]
     },
     "execution_count": 2,
     "metadata": {},
     "output_type": "execute_result"
    }
   ],
   "source": [
    "data = pd.read_csv('raw data/April 2024.csv')\n",
    "data.head()"
   ]
  },
  {
   "cell_type": "code",
   "execution_count": 3,
   "id": "0740802a-0e79-4c47-a695-3a177a3609c6",
   "metadata": {},
   "outputs": [
    {
     "data": {
      "text/html": [
       "<div>\n",
       "<style scoped>\n",
       "    .dataframe tbody tr th:only-of-type {\n",
       "        vertical-align: middle;\n",
       "    }\n",
       "\n",
       "    .dataframe tbody tr th {\n",
       "        vertical-align: top;\n",
       "    }\n",
       "\n",
       "    .dataframe thead th {\n",
       "        text-align: right;\n",
       "    }\n",
       "</style>\n",
       "<table border=\"1\" class=\"dataframe\">\n",
       "  <thead>\n",
       "    <tr style=\"text-align: right;\">\n",
       "      <th></th>\n",
       "      <th>Bike</th>\n",
       "      <th>Covered distance (m)</th>\n",
       "      <th>Duration (sec.)</th>\n",
       "      <th>Departure temperature (C)</th>\n",
       "      <th>Return temperature (C)</th>\n",
       "      <th>Stopover duration (sec.)</th>\n",
       "      <th>Number of stopovers</th>\n",
       "    </tr>\n",
       "  </thead>\n",
       "  <tbody>\n",
       "    <tr>\n",
       "      <th>count</th>\n",
       "      <td>100568.000000</td>\n",
       "      <td>100694.000000</td>\n",
       "      <td>1.006940e+05</td>\n",
       "      <td>100694.000000</td>\n",
       "      <td>100694.000000</td>\n",
       "      <td>100694.000000</td>\n",
       "      <td>100694.000000</td>\n",
       "    </tr>\n",
       "    <tr>\n",
       "      <th>mean</th>\n",
       "      <td>12268.095756</td>\n",
       "      <td>2805.356966</td>\n",
       "      <td>1.308775e+03</td>\n",
       "      <td>13.861849</td>\n",
       "      <td>14.317149</td>\n",
       "      <td>76.454416</td>\n",
       "      <td>0.044442</td>\n",
       "    </tr>\n",
       "    <tr>\n",
       "      <th>std</th>\n",
       "      <td>14269.203403</td>\n",
       "      <td>2850.876659</td>\n",
       "      <td>9.608707e+03</td>\n",
       "      <td>5.871056</td>\n",
       "      <td>5.159803</td>\n",
       "      <td>3137.839485</td>\n",
       "      <td>0.309768</td>\n",
       "    </tr>\n",
       "    <tr>\n",
       "      <th>min</th>\n",
       "      <td>1.000000</td>\n",
       "      <td>0.000000</td>\n",
       "      <td>-8.792700e+04</td>\n",
       "      <td>-2.000000</td>\n",
       "      <td>-4.000000</td>\n",
       "      <td>0.000000</td>\n",
       "      <td>0.000000</td>\n",
       "    </tr>\n",
       "    <tr>\n",
       "      <th>25%</th>\n",
       "      <td>857.000000</td>\n",
       "      <td>1037.000000</td>\n",
       "      <td>3.240000e+02</td>\n",
       "      <td>10.000000</td>\n",
       "      <td>11.000000</td>\n",
       "      <td>0.000000</td>\n",
       "      <td>0.000000</td>\n",
       "    </tr>\n",
       "    <tr>\n",
       "      <th>50%</th>\n",
       "      <td>1752.000000</td>\n",
       "      <td>1977.000000</td>\n",
       "      <td>6.040000e+02</td>\n",
       "      <td>14.000000</td>\n",
       "      <td>14.000000</td>\n",
       "      <td>0.000000</td>\n",
       "      <td>0.000000</td>\n",
       "    </tr>\n",
       "    <tr>\n",
       "      <th>75%</th>\n",
       "      <td>30299.500000</td>\n",
       "      <td>3595.750000</td>\n",
       "      <td>1.115000e+03</td>\n",
       "      <td>17.000000</td>\n",
       "      <td>18.000000</td>\n",
       "      <td>0.000000</td>\n",
       "      <td>0.000000</td>\n",
       "    </tr>\n",
       "    <tr>\n",
       "      <th>max</th>\n",
       "      <td>30899.000000</td>\n",
       "      <td>54591.000000</td>\n",
       "      <td>1.333996e+06</td>\n",
       "      <td>41.000000</td>\n",
       "      <td>40.000000</td>\n",
       "      <td>570740.000000</td>\n",
       "      <td>11.000000</td>\n",
       "    </tr>\n",
       "  </tbody>\n",
       "</table>\n",
       "</div>"
      ],
      "text/plain": [
       "                Bike  Covered distance (m)  Duration (sec.)  \\\n",
       "count  100568.000000         100694.000000     1.006940e+05   \n",
       "mean    12268.095756           2805.356966     1.308775e+03   \n",
       "std     14269.203403           2850.876659     9.608707e+03   \n",
       "min         1.000000              0.000000    -8.792700e+04   \n",
       "25%       857.000000           1037.000000     3.240000e+02   \n",
       "50%      1752.000000           1977.000000     6.040000e+02   \n",
       "75%     30299.500000           3595.750000     1.115000e+03   \n",
       "max     30899.000000          54591.000000     1.333996e+06   \n",
       "\n",
       "       Departure temperature (C)  Return temperature (C)  \\\n",
       "count              100694.000000           100694.000000   \n",
       "mean                   13.861849               14.317149   \n",
       "std                     5.871056                5.159803   \n",
       "min                    -2.000000               -4.000000   \n",
       "25%                    10.000000               11.000000   \n",
       "50%                    14.000000               14.000000   \n",
       "75%                    17.000000               18.000000   \n",
       "max                    41.000000               40.000000   \n",
       "\n",
       "       Stopover duration (sec.)  Number of stopovers  \n",
       "count             100694.000000        100694.000000  \n",
       "mean                  76.454416             0.044442  \n",
       "std                 3137.839485             0.309768  \n",
       "min                    0.000000             0.000000  \n",
       "25%                    0.000000             0.000000  \n",
       "50%                    0.000000             0.000000  \n",
       "75%                    0.000000             0.000000  \n",
       "max               570740.000000            11.000000  "
      ]
     },
     "execution_count": 3,
     "metadata": {},
     "output_type": "execute_result"
    }
   ],
   "source": [
    "data.describe()"
   ]
  },
  {
   "cell_type": "code",
   "execution_count": 4,
   "id": "9692e983-9837-48e6-8e21-e0d17ac1f836",
   "metadata": {},
   "outputs": [
    {
     "name": "stdout",
     "output_type": "stream",
     "text": [
      "<class 'pandas.core.frame.DataFrame'>\n",
      "RangeIndex: 100694 entries, 0 to 100693\n",
      "Data columns (total 13 columns):\n",
      " #   Column                     Non-Null Count   Dtype  \n",
      "---  ------                     --------------   -----  \n",
      " 0   Departure                  100694 non-null  object \n",
      " 1   Return                     100677 non-null  object \n",
      " 2   Bike                       100568 non-null  float64\n",
      " 3   Electric bike              100694 non-null  bool   \n",
      " 4   Departure station          100694 non-null  object \n",
      " 5   Return station             100675 non-null  object \n",
      " 6   Membership type            100559 non-null  object \n",
      " 7   Covered distance (m)       100694 non-null  float64\n",
      " 8   Duration (sec.)            100694 non-null  int64  \n",
      " 9   Departure temperature (C)  100694 non-null  int64  \n",
      " 10  Return temperature (C)     100694 non-null  int64  \n",
      " 11  Stopover duration (sec.)   100694 non-null  int64  \n",
      " 12  Number of stopovers        100694 non-null  int64  \n",
      "dtypes: bool(1), float64(2), int64(5), object(5)\n",
      "memory usage: 9.3+ MB\n"
     ]
    }
   ],
   "source": [
    "data.info()"
   ]
  },
  {
   "cell_type": "code",
   "execution_count": 6,
   "id": "35399860-daf3-4581-8695-bf6e9c5ca0f5",
   "metadata": {},
   "outputs": [
    {
     "data": {
      "text/plain": [
       "str"
      ]
     },
     "execution_count": 6,
     "metadata": {},
     "output_type": "execute_result"
    }
   ],
   "source": [
    "type(data.loc[0,'Departure'])"
   ]
  },
  {
   "cell_type": "code",
   "execution_count": 8,
   "id": "2f31fce7-ea7c-41ae-90be-b392df80dc0f",
   "metadata": {},
   "outputs": [],
   "source": [
    "from datetime import datetime"
   ]
  },
  {
   "cell_type": "code",
   "execution_count": 9,
   "id": "22b28bc5-50ee-4ee6-9470-254726777b0a",
   "metadata": {},
   "outputs": [
    {
     "data": {
      "text/plain": [
       "\u001b[0;31mInit signature:\u001b[0m \u001b[0mdatetime\u001b[0m\u001b[0;34m(\u001b[0m\u001b[0mself\u001b[0m\u001b[0;34m,\u001b[0m \u001b[0;34m/\u001b[0m\u001b[0;34m,\u001b[0m \u001b[0;34m*\u001b[0m\u001b[0margs\u001b[0m\u001b[0;34m,\u001b[0m \u001b[0;34m**\u001b[0m\u001b[0mkwargs\u001b[0m\u001b[0;34m)\u001b[0m\u001b[0;34m\u001b[0m\u001b[0;34m\u001b[0m\u001b[0m\n",
       "\u001b[0;31mDocstring:\u001b[0m     \n",
       "datetime(year, month, day[, hour[, minute[, second[, microsecond[,tzinfo]]]]])\n",
       "\n",
       "The year, month and day arguments are required. tzinfo may be None, or an\n",
       "instance of a tzinfo subclass. The remaining arguments may be ints.\n",
       "\u001b[0;31mFile:\u001b[0m           /Library/Developer/CommandLineTools/Library/Frameworks/Python3.framework/Versions/3.9/lib/python3.9/datetime.py\n",
       "\u001b[0;31mType:\u001b[0m           type\n",
       "\u001b[0;31mSubclasses:\u001b[0m     ABCTimestamp, _NaT"
      ]
     },
     "metadata": {},
     "output_type": "display_data"
    }
   ],
   "source": [
    "datetime?"
   ]
  },
  {
   "cell_type": "code",
   "execution_count": 22,
   "id": "6172c484-1f2f-4051-8ef4-be6efb919899",
   "metadata": {},
   "outputs": [
    {
     "data": {
      "text/plain": [
       "datetime.datetime(2024, 5, 1, 0, 0)"
      ]
     },
     "execution_count": 22,
     "metadata": {},
     "output_type": "execute_result"
    }
   ],
   "source": [
    "d = datetime.strptime(data.loc[0,'Departure'], '%Y-%m-%d %H:%M')\n",
    "d"
   ]
  },
  {
   "cell_type": "code",
   "execution_count": 23,
   "id": "271bbd39-e1c7-4cd4-b42d-cb12115e609e",
   "metadata": {},
   "outputs": [
    {
     "data": {
      "text/plain": [
       "['__add__',\n",
       " '__class__',\n",
       " '__delattr__',\n",
       " '__dir__',\n",
       " '__doc__',\n",
       " '__eq__',\n",
       " '__format__',\n",
       " '__ge__',\n",
       " '__getattribute__',\n",
       " '__gt__',\n",
       " '__hash__',\n",
       " '__init__',\n",
       " '__init_subclass__',\n",
       " '__le__',\n",
       " '__lt__',\n",
       " '__ne__',\n",
       " '__new__',\n",
       " '__radd__',\n",
       " '__reduce__',\n",
       " '__reduce_ex__',\n",
       " '__repr__',\n",
       " '__rsub__',\n",
       " '__setattr__',\n",
       " '__sizeof__',\n",
       " '__str__',\n",
       " '__sub__',\n",
       " '__subclasshook__',\n",
       " 'astimezone',\n",
       " 'combine',\n",
       " 'ctime',\n",
       " 'date',\n",
       " 'day',\n",
       " 'dst',\n",
       " 'fold',\n",
       " 'fromisocalendar',\n",
       " 'fromisoformat',\n",
       " 'fromordinal',\n",
       " 'fromtimestamp',\n",
       " 'hour',\n",
       " 'isocalendar',\n",
       " 'isoformat',\n",
       " 'isoweekday',\n",
       " 'max',\n",
       " 'microsecond',\n",
       " 'min',\n",
       " 'minute',\n",
       " 'month',\n",
       " 'now',\n",
       " 'replace',\n",
       " 'resolution',\n",
       " 'second',\n",
       " 'strftime',\n",
       " 'strptime',\n",
       " 'time',\n",
       " 'timestamp',\n",
       " 'timetuple',\n",
       " 'timetz',\n",
       " 'today',\n",
       " 'toordinal',\n",
       " 'tzinfo',\n",
       " 'tzname',\n",
       " 'utcfromtimestamp',\n",
       " 'utcnow',\n",
       " 'utcoffset',\n",
       " 'utctimetuple',\n",
       " 'weekday',\n",
       " 'year']"
      ]
     },
     "execution_count": 23,
     "metadata": {},
     "output_type": "execute_result"
    }
   ],
   "source": [
    "dir(d)"
   ]
  },
  {
   "cell_type": "code",
   "execution_count": 32,
   "id": "2cb3fcb0-742c-4585-8f11-77478cfe8458",
   "metadata": {},
   "outputs": [
    {
     "data": {
      "text/plain": [
       "5"
      ]
     },
     "execution_count": 32,
     "metadata": {},
     "output_type": "execute_result"
    }
   ],
   "source": [
    "d.month"
   ]
  },
  {
   "cell_type": "code",
   "execution_count": null,
   "id": "46f05dec-0b1e-423c-87f1-77af8500ff71",
   "metadata": {},
   "outputs": [],
   "source": []
  }
 ],
 "metadata": {
  "kernelspec": {
   "display_name": "Python 3 (ipykernel)",
   "language": "python",
   "name": "python3"
  },
  "language_info": {
   "codemirror_mode": {
    "name": "ipython",
    "version": 3
   },
   "file_extension": ".py",
   "mimetype": "text/x-python",
   "name": "python",
   "nbconvert_exporter": "python",
   "pygments_lexer": "ipython3",
   "version": "3.9.6"
  }
 },
 "nbformat": 4,
 "nbformat_minor": 5
}
