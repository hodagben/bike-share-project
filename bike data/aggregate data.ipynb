{
 "cells": [
  {
   "cell_type": "code",
   "execution_count": null,
   "id": "2e4b883a-097d-464b-b375-0c903fb07b5e",
   "metadata": {},
   "outputs": [],
   "source": [
    "import pandas as pd\n",
    "from datetime import datetime\n",
    "import os"
   ]
  },
  {
   "cell_type": "code",
   "execution_count": null,
   "id": "cab4b1d9-3ef6-4c62-88e0-5024a271bf6e",
   "metadata": {},
   "outputs": [],
   "source": [
    "def get_columns(df):\n",
    "    columns = ['Departure']\n",
    "    if 'Electric bike' in df:\n",
    "        columns += ['Electric bike']\n",
    "    columns += ['Covered distance (m)','Duration (sec.)']\n",
    "    for c in df:\n",
    "        if c.startswith('Departure temperature') or c.startswith('Return temperature'):\n",
    "            columns += [c]\n",
    "    return columns"
   ]
  },
  {
   "cell_type": "code",
   "execution_count": null,
   "id": "55d52a9a-649c-4655-8878-a2487bfa7a26",
   "metadata": {},
   "outputs": [],
   "source": [
    "def operations(cols):\n",
    "    ops = {'Departure':'count',\n",
    "           'Covered distance (m)':'sum',\n",
    "           'Duration (sec.)':'sum'}\n",
    "    if 'Electric bike' in cols:\n",
    "        ops['Electric bike'] = 'sum'\n",
    "    for c in cols:\n",
    "        if c.startswith('Departure temperature') or c.startswith('Return temperature'):\n",
    "            ops[c] = 'mean'\n",
    "    return ops"
   ]
  },
  {
   "cell_type": "code",
   "execution_count": null,
   "id": "40b03c6c-69d3-447b-8d0b-21c08eeab35a",
   "metadata": {},
   "outputs": [],
   "source": [
    "def rename(cols):\n",
    "    names = {'Departure':'Bike trips',\n",
    "             'Covered distance (m)':'Total distance (m)',\n",
    "             'Duration (sec.)':'Total duration (sec)',}\n",
    "    if 'Electric bike' in cols:\n",
    "        names['Electric bike'] = 'Electric bike trips'\n",
    "    for c in cols:\n",
    "        if c.startswith('Departure temperature'):\n",
    "            names[c] = 'Mean departure temperature (C)'\n",
    "        if c.startswith('Return temperature'):\n",
    "            names[c] = 'Mean return temperature (C)'\n",
    "    return names"
   ]
  },
  {
   "cell_type": "code",
   "execution_count": null,
   "id": "828ecc6b-505d-4e4e-9858-927aa6e84e79",
   "metadata": {},
   "outputs": [],
   "source": [
    "def get_date(d):\n",
    "    return d.date()"
   ]
  },
  {
   "cell_type": "code",
   "execution_count": null,
   "id": "46b36f58-a95e-474b-871b-c6b5f04e10b0",
   "metadata": {},
   "outputs": [],
   "source": [
    "aggregate_data = pd.DataFrame({})\n",
    "\n",
    "files = [file_name for file_name in os.listdir('raw data') if file_name.endswith('.csv')]\n",
    "\n",
    "for file_name in files:\n",
    "    raw_data = pd.read_csv('raw data/'+file_name)\n",
    "    print(file_name)\n",
    "    cols = get_columns(raw_data)\n",
    "    proc_data = raw_data[cols].copy().dropna()\n",
    "    \n",
    "    example_date = proc_data.loc[0,'Departure']\n",
    "    if '-' in example_date:\n",
    "        date_format = '%Y-%m-%d %H:%M'\n",
    "    elif len(example_date.split()[0].split('/')[2])==2:\n",
    "        date_format = '%m/%d/%y %H:%M'\n",
    "    else:\n",
    "        date_format = '%m/%d/%Y %H:%M'\n",
    "    \n",
    "    proc_data['Departure'] = proc_data['Departure'].apply(lambda x : datetime.strptime(x, date_format))\n",
    "    proc_data = proc_data.groupby(proc_data['Departure'].apply(get_date)).agg(operations(cols))\n",
    "    proc_data.index.name = 'Date'\n",
    "    proc_data.rename(columns=rename(cols), inplace=True)\n",
    "    aggregate_data = pd.concat([aggregate_data, proc_data], ignore_index = False)\n",
    "\n",
    "aggregate_data.sort_index(ascending=True, inplace=True)"
   ]
  },
  {
   "cell_type": "code",
   "execution_count": null,
   "id": "6325b5b7-b551-4ab1-b916-d456801e2969",
   "metadata": {},
   "outputs": [],
   "source": [
    "aggregate_data"
   ]
  },
  {
   "cell_type": "code",
   "execution_count": null,
   "id": "678f7f46-7974-4175-9301-216dde17c9e1",
   "metadata": {},
   "outputs": [],
   "source": [
    "aggregate_data.info()"
   ]
  },
  {
   "cell_type": "code",
   "execution_count": null,
   "id": "3d1ae212-cfa7-491c-a77d-a4e83a630423",
   "metadata": {},
   "outputs": [],
   "source": [
    "aggregate_data.describe()"
   ]
  }
 ],
 "metadata": {
  "kernelspec": {
   "display_name": "Python 3 (ipykernel)",
   "language": "python",
   "name": "python3"
  },
  "language_info": {
   "codemirror_mode": {
    "name": "ipython",
    "version": 3
   },
   "file_extension": ".py",
   "mimetype": "text/x-python",
   "name": "python",
   "nbconvert_exporter": "python",
   "pygments_lexer": "ipython3",
   "version": "3.9.6"
  }
 },
 "nbformat": 4,
 "nbformat_minor": 5
}
