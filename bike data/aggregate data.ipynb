{
 "cells": [
  {
   "cell_type": "markdown",
   "id": "a86329b3-9d80-4612-99be-54f99af29ca3",
   "metadata": {},
   "source": [
    "# Creating aggregate bike data"
   ]
  },
  {
   "cell_type": "code",
   "execution_count": null,
   "id": "2e4b883a-097d-464b-b375-0c903fb07b5e",
   "metadata": {},
   "outputs": [],
   "source": [
    "import pandas as pd\n",
    "from datetime import datetime, date\n",
    "import os"
   ]
  },
  {
   "cell_type": "code",
   "execution_count": null,
   "id": "cab4b1d9-3ef6-4c62-88e0-5024a271bf6e",
   "metadata": {},
   "outputs": [],
   "source": [
    "# Looks at monthly bike data and selects relevant columns\n",
    "\n",
    "def get_columns(df):\n",
    "    columns = ['Departure']\n",
    "    if 'Electric bike' in df:\n",
    "        columns += ['Electric bike']\n",
    "    columns += ['Covered distance (m)','Duration (sec.)']\n",
    "    for c in df:\n",
    "        if c.startswith('Departure temperature') or c.startswith('Return temperature'):\n",
    "            columns += [c]\n",
    "    return columns"
   ]
  },
  {
   "cell_type": "code",
   "execution_count": null,
   "id": "55d52a9a-649c-4655-8878-a2487bfa7a26",
   "metadata": {},
   "outputs": [],
   "source": [
    "# Associates an operation to perform on each column\n",
    "\n",
    "def operations(cols):\n",
    "    ops = {'Departure':'count',\n",
    "           'Covered distance (m)':'sum',\n",
    "           'Duration (sec.)':'sum'}\n",
    "    if 'Electric bike' in cols:\n",
    "        ops['Electric bike'] = 'sum'\n",
    "    for c in cols:\n",
    "        if c.startswith('Departure temperature') or c.startswith('Return temperature'):\n",
    "            ops[c] = 'mean'\n",
    "    return ops"
   ]
  },
  {
   "cell_type": "code",
   "execution_count": null,
   "id": "40b03c6c-69d3-447b-8d0b-21c08eeab35a",
   "metadata": {},
   "outputs": [],
   "source": [
    "# Specifies new columnn names to be used after\n",
    "# operations have been applied\n",
    "\n",
    "def rename(cols):\n",
    "    names = {'Departure':'Bike trips',\n",
    "             'Covered distance (m)':'Total distance (m)',\n",
    "             'Duration (sec.)':'Total duration (sec)',}\n",
    "    if 'Electric bike' in cols:\n",
    "        names['Electric bike'] = 'Electric bike trips'\n",
    "    for c in cols:\n",
    "        if c.startswith('Departure temperature'):\n",
    "            names[c] = 'Mean departure temperature (C)'\n",
    "        if c.startswith('Return temperature'):\n",
    "            names[c] = 'Mean return temperature (C)'\n",
    "    return names"
   ]
  },
  {
   "cell_type": "code",
   "execution_count": null,
   "id": "828ecc6b-505d-4e4e-9858-927aa6e84e79",
   "metadata": {},
   "outputs": [],
   "source": [
    "def get_date(d):\n",
    "    return d.date()"
   ]
  },
  {
   "cell_type": "code",
   "execution_count": null,
   "id": "46b36f58-a95e-474b-871b-c6b5f04e10b0",
   "metadata": {},
   "outputs": [],
   "source": [
    "aggregate_data = pd.DataFrame({})\n",
    "\n",
    "# names of monthly data files\n",
    "files = [file_name for file_name in os.listdir('raw data') if file_name.endswith('.csv')]\n",
    "\n",
    "for file_name in files:\n",
    "    # Load a monthly data file\n",
    "    raw_data = pd.read_csv('raw data/'+file_name)\n",
    "    print(file_name)\n",
    "\n",
    "    # Identify relevant columns\n",
    "    cols = get_columns(raw_data)\n",
    "    proc_data = raw_data[cols].copy().dropna()\n",
    "\n",
    "    # Convert 'Departure' strings into datetime objects\n",
    "    example_date = proc_data.loc[0,'Departure']\n",
    "    if '-' in example_date:\n",
    "        date_format = '%Y-%m-%d %H:%M'\n",
    "    elif len(example_date.split()[0].split('/')[2])==2:\n",
    "        date_format = '%m/%d/%y %H:%M'\n",
    "    else:\n",
    "        date_format = '%m/%d/%Y %H:%M'   \n",
    "    proc_data['Departure'] = proc_data['Departure'].apply(lambda x : datetime.strptime(x, date_format))\n",
    "\n",
    "    # Group data by date (in 'Departure' column)\n",
    "    # and apply an operation (e.g. sum, mean) to each column\n",
    "    proc_data = proc_data.groupby(proc_data['Departure'].apply(get_date)).agg(operations(cols))\n",
    "    proc_data.index.name = 'Date'\n",
    "\n",
    "    # Rename columns after grouping and transforming\n",
    "    proc_data.rename(columns=rename(cols), inplace=True)\n",
    "\n",
    "    # Add the processed monthly data to the aggregate DataFrame\n",
    "    aggregate_data = pd.concat([aggregate_data, proc_data], ignore_index = False)\n",
    "\n",
    "aggregate_data.sort_index(ascending=True, inplace=True)"
   ]
  },
  {
   "cell_type": "markdown",
   "id": "cde49aba-2b0a-4b9e-91cf-b75070c3b2f7",
   "metadata": {},
   "source": [
    "We now have a DataFrame containing all bike data compressed to a daily scale.  Note that the first day of each month appears in the raw data file for that month *and* the preceding one.  (E.g.  There are April 1, 2024 bike trips logged in both the April 2024 and March 2024 files.) So our aggregate DataFrame will have a repeated index at the first of each month.  For example:"
   ]
  },
  {
   "cell_type": "code",
   "execution_count": null,
   "id": "f5ad9577-51ad-4483-881d-7f5b7423af27",
   "metadata": {},
   "outputs": [],
   "source": [
    "aggregate_data.loc[date(2024,4,1)]"
   ]
  },
  {
   "cell_type": "markdown",
   "id": "0ba1ed8b-d826-4c53-8cb8-d66810e708ba",
   "metadata": {},
   "source": [
    "We can combine these rows by summing the `Bike trips`, `Total distance (m)`, `Total duration`, and `Electric bike trips` columns and taking a weighted average in the `Mean departure temperature (C)` and `Mean return temperature (C)` columns."
   ]
  },
  {
   "cell_type": "code",
   "execution_count": null,
   "id": "700609fa-a9fa-493c-a81b-9481b4d2e32f",
   "metadata": {},
   "outputs": [],
   "source": [
    "# Switch to integer indexing\n",
    "aggregate_data.reset_index(inplace=True)\n",
    "\n",
    "# Get locations of repeated dates\n",
    "bad_indices = [i for i in range(len(aggregate_data.index)-1)\n",
    "               if aggregate_data.loc[i,'Date'] == aggregate_data.loc[i+1,'Date']]\n",
    "\n",
    "for i in bad_indices:\n",
    "    # Get data from both rows\n",
    "    trips1, trips2 = aggregate_data.loc[[i,i+1],'Bike trips']\n",
    "    dist1, dist2 = aggregate_data.loc[[i,i+1],'Total distance (m)']\n",
    "    dur1, dur2 = aggregate_data.loc[[i,i+1],'Total duration (sec)']\n",
    "    dep_temp1, dep_temp2 = aggregate_data.loc[[i,i+1],'Mean departure temperature (C)']\n",
    "    ret_temp1, ret_temp2 = aggregate_data.loc[[i,i+1],'Mean return temperature (C)']\n",
    "    elec1, elec2 = aggregate_data.loc[[i,i+1],'Electric bike trips']\n",
    "\n",
    "    # Record new combined data in the first row\n",
    "    aggregate_data.loc[i,'Bike trips'] = trips1+trips2\n",
    "    aggregate_data.loc[i,'Total distance (m)'] = dist1+dist2\n",
    "    aggregate_data.loc[i,'Total duration (sec)'] = dur1+dur2\n",
    "    aggregate_data.loc[i,'Mean departure temperature (C)'] = (trips1*dep_temp1 + trips2*dep_temp2)/(trips1+trips2)\n",
    "    aggregate_data.loc[i,'Mean return temperature (C)'] = (trips1*ret_temp1 + trips2*ret_temp2)/(trips1+trips2)\n",
    "    aggregate_data.loc[i,'Electric bike trips'] = elec1+elec2\n",
    "\n",
    "# Drop all of the 'second' rows\n",
    "aggregate_data.drop([i+1 for i in bad_indices],inplace=True)\n",
    "\n",
    "# Switch back to date indexing\n",
    "aggregate_data.set_index('Date', inplace=True)"
   ]
  },
  {
   "cell_type": "markdown",
   "id": "5936969b-364e-4dfa-9c59-95b2291aef5b",
   "metadata": {},
   "source": [
    "Now we have:"
   ]
  },
  {
   "cell_type": "code",
   "execution_count": null,
   "id": "cde3afe7-a3be-4d34-8d9f-2a86a115ef2a",
   "metadata": {},
   "outputs": [],
   "source": [
    "aggregate_data.loc[date(2024,4,1)]"
   ]
  },
  {
   "cell_type": "code",
   "execution_count": null,
   "id": "c083a677-dbd9-4e7d-87da-22a206fffee3",
   "metadata": {},
   "outputs": [],
   "source": [
    "any(aggregate_data.index.duplicated())"
   ]
  }
 ],
 "metadata": {
  "kernelspec": {
   "display_name": "Python 3 (ipykernel)",
   "language": "python",
   "name": "python3"
  },
  "language_info": {
   "codemirror_mode": {
    "name": "ipython",
    "version": 3
   },
   "file_extension": ".py",
   "mimetype": "text/x-python",
   "name": "python",
   "nbconvert_exporter": "python",
   "pygments_lexer": "ipython3",
   "version": "3.9.6"
  }
 },
 "nbformat": 4,
 "nbformat_minor": 5
}
