{
 "cells": [
  {
   "cell_type": "markdown",
   "id": "fe5dead2-dac2-443c-a977-2ef07cf374cd",
   "metadata": {},
   "source": [
    "# Project Description"
   ]
  },
  {
   "cell_type": "code",
   "execution_count": null,
   "id": "a364fe8f-6c40-41c7-bfbc-1a766f6db2f2",
   "metadata": {},
   "outputs": [],
   "source": []
  },
  {
   "cell_type": "markdown",
   "id": "9a0cfc6e-b9b5-405f-94cf-6ef186bb0687",
   "metadata": {},
   "source": [
    "# Summary of Data"
   ]
  },
  {
   "cell_type": "code",
   "execution_count": null,
   "id": "50575d3b-310c-4bba-9b45-260551708cf9",
   "metadata": {},
   "outputs": [],
   "source": []
  },
  {
   "cell_type": "markdown",
   "id": "897fdae3-d311-45fe-8282-6dd2313dea4c",
   "metadata": {},
   "source": [
    "# Data Exploration and Preprocessing"
   ]
  },
  {
   "cell_type": "code",
   "execution_count": null,
   "id": "c14510a1-311a-4700-a6c5-510fd773cecb",
   "metadata": {},
   "outputs": [],
   "source": [
    "### Data Manipulation Imports ###\n",
    "\n",
    "import numpy as np\n",
    "import matplotlib.pyplot as plt\n",
    "from matplotlib import dates as mdates\n",
    "import seaborn as sns\n",
    "import pandas as pd"
   ]
  },
  {
   "cell_type": "code",
   "execution_count": null,
   "id": "5205f9a8",
   "metadata": {},
   "outputs": [],
   "source": [
    "### Show Data Frame ###\n",
    "\n",
    "df.head()"
   ]
  },
  {
   "cell_type": "code",
   "execution_count": null,
   "id": "346bb012",
   "metadata": {},
   "outputs": [],
   "source": [
    "### Data Cleaning ###"
   ]
  },
  {
   "cell_type": "code",
   "execution_count": null,
   "id": "478ca56d",
   "metadata": {},
   "outputs": [],
   "source": [
    "### Remove Trend ###"
   ]
  },
  {
   "cell_type": "code",
   "execution_count": null,
   "id": "2c43637b",
   "metadata": {},
   "outputs": [],
   "source": [
    "### Show Data ###\n",
    "\n",
    "fig, ax = plt.subplots(1,1,figsize = (10,5))\n",
    "\n",
    "ax.scatter(df.Date,df.total_num_trips)\n",
    "\n",
    "ax.xaxis.set_major_locator(mdates.YearLocator())\n",
    "ax.xaxis.set_minor_locator(mdates.MonthLocator(bymonth=(1,4,7,10)))\n",
    "plt.gcf().autofmt_xdate()\n",
    "\n",
    "ax.set_xlabel('Date')\n",
    "ax.set_ylabel('Number of Trips')\n",
    "ax.set_title('Number of Trips Over Time')\n",
    "\n",
    "plt.show()"
   ]
  },
  {
   "cell_type": "markdown",
   "id": "53f6e59d-37bb-40e0-b288-4b421239b16a",
   "metadata": {},
   "source": [
    "# Baseline Models"
   ]
  },
  {
   "cell_type": "code",
   "execution_count": null,
   "id": "d9f0fb69",
   "metadata": {},
   "outputs": [],
   "source": [
    "### Modeling Imports ###\n",
    "\n",
    "from sklearn.model_selection import train_test_split\n",
    "from sklearn.linear_model import LinearRegression \n",
    "from sklearn.metrics import mean_squared_error\n",
    "from sklearn.neighbors import KNeighborsRegressor"
   ]
  },
  {
   "cell_type": "code",
   "execution_count": null,
   "id": "32352023-f296-4c11-b7c2-8fe906caab34",
   "metadata": {},
   "outputs": [],
   "source": [
    "### Train Test Split ###\n",
    "\n",
    "#? Linear features are total_precip, mean_dep_temp, and num_stations ??? "
   ]
  },
  {
   "cell_type": "code",
   "execution_count": null,
   "id": "ec3b4117",
   "metadata": {},
   "outputs": [],
   "source": [
    "### Basic Linear Regression ###\n",
    "\n",
    "linear_model = LinearRegression()\n",
    "linear_model.fit(X_train, y_train)"
   ]
  },
  {
   "cell_type": "code",
   "execution_count": null,
   "id": "04dd1cf7",
   "metadata": {},
   "outputs": [],
   "source": [
    "### Linear Trig Regression ###\n",
    "\n"
   ]
  },
  {
   "cell_type": "code",
   "execution_count": null,
   "id": "1262909e",
   "metadata": {},
   "outputs": [],
   "source": [
    "### KNN Regression ###\n",
    "\n",
    "k_values = range(2, 21)\n",
    "#? Initialize a dictionary to hold the models and their RMS values\n",
    "knr_models = {}\n",
    "krms_values = {}\n",
    "\n",
    "#? Train a KNN model for each k value\n",
    "for k in k_values:\n",
    "    knr = KNeighborsRegressor(n_neighbors=k)\n",
    "    knr.fit(X_train, y_train)\n",
    "    y_pred_knr = knr.predict(X_train)\n",
    "    \n",
    "    #? Calculate the RMS for each model\n",
    "    rms_knr = np.sqrt(mean_squared_error(y_train, y_pred_knr))\n",
    "    \n",
    "    #? Store the model and RMS in the dictionaries\n",
    "    knr_models[k] = knr\n",
    "    krms_values[k] = rms_knr\n",
    "\n",
    "print('Best K value:', min(krms_values, key=krms_values.get))\n",
    "print('RMS:', krms_values[min(krms_values, key=krms_values.get)])"
   ]
  },
  {
   "cell_type": "code",
   "execution_count": null,
   "id": "d9779521",
   "metadata": {},
   "outputs": [],
   "source": [
    "### Other Base Regression Models ###"
   ]
  },
  {
   "cell_type": "code",
   "execution_count": null,
   "id": "bd82619f",
   "metadata": {},
   "outputs": [],
   "source": [
    "### Compare Base Models ###"
   ]
  },
  {
   "cell_type": "markdown",
   "id": "54f6c0e4-84c5-4f2a-a204-9baf27fda85a",
   "metadata": {},
   "source": [
    "# Other Models"
   ]
  },
  {
   "cell_type": "code",
   "execution_count": null,
   "id": "1b9dd446",
   "metadata": {},
   "outputs": [],
   "source": [
    "### Fourier Regression ###"
   ]
  },
  {
   "cell_type": "code",
   "execution_count": null,
   "id": "4de6defe",
   "metadata": {},
   "outputs": [],
   "source": [
    "### Tree ###"
   ]
  },
  {
   "cell_type": "code",
   "execution_count": null,
   "id": "6e315b89-0064-405a-8810-6811fc23c180",
   "metadata": {},
   "outputs": [],
   "source": [
    "### AMIRA ###\n",
    "# Imports\n",
    "from statsmodels.graphics.tsaplots import plot_acf, plot_pacf\n",
    "import statsmodels.tsa.api as sm\n",
    "from pmdarima import auto_arima\n",
    "\n",
    "# Plot ACF and PACF\n",
    "\n",
    "fig, ax = plt.subplots(1,2,figsize = (10,5))\n",
    "plot_acf(df.total_num_trips, ax = ax[0])\n",
    "plot_pacf(df.total_num_trips, ax = ax[1])\n",
    "\n",
    "ax.set_xlabel('Lag')\n",
    "ax.set_ylabel('Correlation')\n",
    "ax.set_title('ACF and PACF of Total Number of Trips')\n",
    "ax[0].set_title('ACF')\n",
    "ax[1].set_title('PACF')\n",
    "\n",
    "plt.show()\n",
    "\n",
    "# Chose best ARIMA Model hyperparameters\n",
    "\n",
    "residuals = y_train - best_model.predict(X_train)\n",
    "\n",
    "auto_arima(residuals, trace=True)\n",
    "\n",
    "# Fit ARIMA Model\n",
    "arima_model = sm.ARIMA(residuals, order=(2,1,1)).fit()\n",
    "arima.summary()\n",
    "\n",
    "# Fit SARIMA Model\n",
    "\n",
    "sarima_model = sm.SARIMAX(y_train, order=(2,1,1), seasonal_order=(1,1,1,7)).fit()\n",
    "sarima_model.summary()\n",
    "\n",
    "\n",
    "# Plot Predictions\n",
    "\n",
    "plt.scatter(df.Date,residuals,\n",
    "            color='k',\n",
    "            s=5,\n",
    "            label='residuals'\n",
    "            )\n",
    "\n",
    "plt.scatter(df.Date,sarima_model.fittedvalues,\n",
    "            color='r',\n",
    "            s=5,\n",
    "            label='SARIMA_preds'\n",
    "            )\n",
    " \n",
    "plt.scatter(df.Date,arima_model.fittedvalues,\n",
    "            color='b',\n",
    "            s=5,\n",
    "            label='ARIMA_preds'\n",
    "            )\n",
    "\n",
    "plt.xlabel('Date')\n",
    "plt.ylabel('Residual Values')\n",
    "plt.legend()\n",
    "plt.show()"
   ]
  },
  {
   "cell_type": "code",
   "execution_count": null,
   "id": "ce1e0d99",
   "metadata": {},
   "outputs": [],
   "source": [
    "### SAMIRA ###"
   ]
  },
  {
   "cell_type": "markdown",
   "id": "1fc6996e-e7a5-4fca-9461-d0f712f02ef5",
   "metadata": {},
   "source": [
    "# Comparison and Model Selection"
   ]
  },
  {
   "cell_type": "code",
   "execution_count": null,
   "id": "ed00d969-79be-4e8e-9969-9bc68199ba5a",
   "metadata": {},
   "outputs": [],
   "source": []
  },
  {
   "cell_type": "markdown",
   "id": "af8a5414-c0cf-4ab3-bea7-92c9b80c7263",
   "metadata": {},
   "source": [
    "# Model Interpretation"
   ]
  },
  {
   "cell_type": "code",
   "execution_count": null,
   "id": "dfa492a2-a278-4c3c-ab67-1c56142d824b",
   "metadata": {},
   "outputs": [],
   "source": []
  },
  {
   "cell_type": "markdown",
   "id": "b6120df0-0de2-481e-912c-d3029a54e997",
   "metadata": {},
   "source": [
    "# Conclusions and Future Directions"
   ]
  },
  {
   "cell_type": "code",
   "execution_count": null,
   "id": "573ef763-ab2e-4a52-a8f3-70ccb2175065",
   "metadata": {},
   "outputs": [],
   "source": []
  }
 ],
 "metadata": {
  "kernelspec": {
   "display_name": "Python 3 (ipykernel)",
   "language": "python",
   "name": "python3"
  },
  "language_info": {
   "codemirror_mode": {
    "name": "ipython",
    "version": 3
   },
   "file_extension": ".py",
   "mimetype": "text/x-python",
   "name": "python",
   "nbconvert_exporter": "python",
   "pygments_lexer": "ipython3",
   "version": "3.9.6"
  }
 },
 "nbformat": 4,
 "nbformat_minor": 5
}
