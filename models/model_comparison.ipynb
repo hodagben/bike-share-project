{
 "cells": [
  {
   "cell_type": "markdown",
   "id": "dde6359d-d154-445a-a43e-1032ef065c47",
   "metadata": {},
   "source": [
    "# Model Comparison"
   ]
  },
  {
   "cell_type": "markdown",
   "id": "c2de3e87-84b5-4b7f-bd79-e3c3cc823049",
   "metadata": {},
   "source": [
    "## 1. KNN model"
   ]
  },
  {
   "cell_type": "markdown",
   "id": "d53ecac2-e400-49c1-a673-0aaf3ef9c3c4",
   "metadata": {},
   "source": [
    "As a very simple baseline, I created a KNN model that predicts daily bike trips using only day of the year.  Given a date as input, the model identifies the $k$ rows of the training data having the closest day of the year.  It then returns the average number of bike trips over these days.  Since this model does not take into account any weather factors, it probably won't perform the best."
   ]
  },
  {
   "cell_type": "markdown",
   "id": "5a586ea6-ba2f-448b-b17e-91869ab01564",
   "metadata": {},
   "source": [
    "Using `bikeshare_train_data_pcwsdetrend_mult.csv` as training data and `bikeshare_test_data_pcwsdetrend_mult.csv` as test data and taking $k=60$, this model performed as follows:\n",
    "* Training RMSE: 532\n",
    "* Test RMSE: 508"
   ]
  },
  {
   "cell_type": "markdown",
   "id": "53f9210b-da4b-4ee4-84dd-c60c874ec829",
   "metadata": {},
   "source": [
    "Details can be found in `KNN.ipynb`."
   ]
  },
  {
   "cell_type": "markdown",
   "id": "ff91a0c4-ee61-4055-94e2-5eb605dcd605",
   "metadata": {},
   "source": [
    "## 2. "
   ]
  },
  {
   "cell_type": "code",
   "execution_count": null,
   "id": "6b7cad0b-5602-41ae-bb2c-37dfe1bb00aa",
   "metadata": {},
   "outputs": [],
   "source": []
  }
 ],
 "metadata": {
  "kernelspec": {
   "display_name": "Python 3 (ipykernel)",
   "language": "python",
   "name": "python3"
  },
  "language_info": {
   "codemirror_mode": {
    "name": "ipython",
    "version": 3
   },
   "file_extension": ".py",
   "mimetype": "text/x-python",
   "name": "python",
   "nbconvert_exporter": "python",
   "pygments_lexer": "ipython3",
   "version": "3.9.6"
  }
 },
 "nbformat": 4,
 "nbformat_minor": 5
}
