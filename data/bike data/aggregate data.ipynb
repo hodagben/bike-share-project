{
 "cells": [
  {
   "cell_type": "markdown",
   "id": "a86329b3-9d80-4612-99be-54f99af29ca3",
   "metadata": {},
   "source": [
    "# Creating aggregate bike data"
   ]
  },
  {
   "cell_type": "code",
   "execution_count": 1,
   "id": "2e4b883a-097d-464b-b375-0c903fb07b5e",
   "metadata": {},
   "outputs": [],
   "source": [
    "import pandas as pd\n",
    "from datetime import datetime, date\n",
    "import os"
   ]
  },
  {
   "cell_type": "code",
   "execution_count": 2,
   "id": "cab4b1d9-3ef6-4c62-88e0-5024a271bf6e",
   "metadata": {},
   "outputs": [],
   "source": [
    "# Looks at monthly bike data and selects relevant columns\n",
    "\n",
    "def get_columns(df):\n",
    "    columns = ['Departure','Covered distance (m)','Duration (sec.)']\n",
    "    for c in df:\n",
    "        if c.startswith(('Electric','Departure temperature','Return temperature')):\n",
    "            columns += [c]\n",
    "    return columns"
   ]
  },
  {
   "cell_type": "code",
   "execution_count": 3,
   "id": "55d52a9a-649c-4655-8878-a2487bfa7a26",
   "metadata": {},
   "outputs": [],
   "source": [
    "# Associates an operation to perform on each column\n",
    "\n",
    "def operations(cols):\n",
    "    ops = {'Departure':'count',\n",
    "           'Covered distance (m)':'sum',\n",
    "           'Duration (sec.)':'sum'}\n",
    "    for c in cols:\n",
    "        if c.startswith('Electric'):\n",
    "            ops[c] = 'sum'\n",
    "        if c.startswith(('Departure temperature','Return temperature')):\n",
    "            ops[c] = 'mean'\n",
    "    return ops"
   ]
  },
  {
   "cell_type": "code",
   "execution_count": 4,
   "id": "40b03c6c-69d3-447b-8d0b-21c08eeab35a",
   "metadata": {},
   "outputs": [],
   "source": [
    "# Specifies new columnn names to be used after\n",
    "# operations have been applied\n",
    "\n",
    "def rename(cols):\n",
    "    names = {'Departure':'Bike trips',\n",
    "             'Covered distance (m)':'Total distance (m)',\n",
    "             'Duration (sec.)':'Total duration (sec)',}\n",
    "    for c in cols:\n",
    "        if c.startswith('Electric'):\n",
    "            names[c] = 'Electric bike trips'\n",
    "        if c.startswith('Departure temperature'):\n",
    "            names[c] = 'Mean departure temperature (C)'\n",
    "        if c.startswith('Return temperature'):\n",
    "            names[c] = 'Mean return temperature (C)'\n",
    "    return names"
   ]
  },
  {
   "cell_type": "code",
   "execution_count": 5,
   "id": "828ecc6b-505d-4e4e-9858-927aa6e84e79",
   "metadata": {},
   "outputs": [],
   "source": [
    "def get_date(d):\n",
    "    return d.date()"
   ]
  },
  {
   "cell_type": "code",
   "execution_count": 6,
   "id": "46b36f58-a95e-474b-871b-c6b5f04e10b0",
   "metadata": {},
   "outputs": [
    {
     "name": "stdout",
     "output_type": "stream",
     "text": [
      "September 2019.csv\n",
      "September 2018.csv\n",
      "September 2023.csv\n",
      "September 2022.csv\n",
      "September 2020.csv\n",
      "September 2021.csv\n",
      "December 2022.csv\n"
     ]
    },
    {
     "name": "stderr",
     "output_type": "stream",
     "text": [
      "/var/folders/87/tjh6zp2562q1vd9_tgdvt1500000gn/T/ipykernel_20049/1840006905.py:8: DtypeWarning: Columns (1,2,3,4,5) have mixed types. Specify dtype option on import or set low_memory=False.\n",
      "  raw_data = pd.read_csv('raw data/'+file_name, parse_dates=['Departure'])\n"
     ]
    },
    {
     "name": "stdout",
     "output_type": "stream",
     "text": [
      "February 2019.csv\n",
      "February 2024.csv\n",
      "February 2018.csv\n",
      "December 2023.csv\n",
      "December 2021.csv\n",
      "Novemeber 2021.csv\n",
      "December 2020.csv\n",
      "December 2018.csv\n"
     ]
    },
    {
     "name": "stderr",
     "output_type": "stream",
     "text": [
      "/var/folders/87/tjh6zp2562q1vd9_tgdvt1500000gn/T/ipykernel_20049/1840006905.py:8: DtypeWarning: Columns (1,2,3,4,5) have mixed types. Specify dtype option on import or set low_memory=False.\n",
      "  raw_data = pd.read_csv('raw data/'+file_name, parse_dates=['Departure'])\n"
     ]
    },
    {
     "name": "stdout",
     "output_type": "stream",
     "text": [
      "February 2023.csv\n",
      "February 2022.csv\n",
      "December 2019.csv\n",
      "February 2020.csv\n",
      "February 2021.csv\n",
      "May 2023.csv\n",
      "August 2020.csv\n",
      "January 2018.csv\n",
      "April 2019.csv\n",
      "January 2024.csv\n",
      "October 2019.csv\n",
      "October 2018.csv\n",
      "ALL of 2017.csv\n",
      "April 2018.csv\n",
      "January 2019.csv\n",
      "April 2024.csv\n",
      "August 2021.csv\n",
      "May 2022.csv\n",
      "March 2019.csv\n",
      "May 2020.csv\n",
      "August 2023.csv\n",
      "August 2022.csv\n",
      "May 2021.csv\n",
      "March 2024.csv\n",
      "March 2018.csv\n",
      "March 2020.csv\n",
      "May 2019.csv\n",
      "January 2022.csv\n",
      "April 2023.csv\n"
     ]
    },
    {
     "name": "stderr",
     "output_type": "stream",
     "text": [
      "/var/folders/87/tjh6zp2562q1vd9_tgdvt1500000gn/T/ipykernel_20049/1840006905.py:8: DtypeWarning: Columns (2) have mixed types. Specify dtype option on import or set low_memory=False.\n",
      "  raw_data = pd.read_csv('raw data/'+file_name, parse_dates=['Departure'])\n"
     ]
    },
    {
     "name": "stdout",
     "output_type": "stream",
     "text": [
      "October 2023.csv\n",
      "October 2022.csv\n",
      "April 2022.csv\n",
      "January 2023.csv\n",
      "May 2018.csv\n"
     ]
    },
    {
     "name": "stderr",
     "output_type": "stream",
     "text": [
      "/var/folders/87/tjh6zp2562q1vd9_tgdvt1500000gn/T/ipykernel_20049/1840006905.py:8: DtypeWarning: Columns (1,2,3,4,5) have mixed types. Specify dtype option on import or set low_memory=False.\n",
      "  raw_data = pd.read_csv('raw data/'+file_name, parse_dates=['Departure'])\n"
     ]
    },
    {
     "name": "stdout",
     "output_type": "stream",
     "text": [
      "March 2021.csv\n",
      "March 2023.csv\n"
     ]
    },
    {
     "name": "stderr",
     "output_type": "stream",
     "text": [
      "/var/folders/87/tjh6zp2562q1vd9_tgdvt1500000gn/T/ipykernel_20049/1840006905.py:8: DtypeWarning: Columns (2) have mixed types. Specify dtype option on import or set low_memory=False.\n",
      "  raw_data = pd.read_csv('raw data/'+file_name, parse_dates=['Departure'])\n"
     ]
    },
    {
     "name": "stdout",
     "output_type": "stream",
     "text": [
      "August 2019.csv\n",
      "January 2021.csv\n",
      "April 2020.csv\n",
      "October 2020.csv\n",
      "October 2021.csv\n",
      "April 2021.csv\n",
      "January 2020.csv\n",
      "August 2018.csv\n",
      "March 2022.csv\n",
      "July 2020.csv\n",
      "June 2020.csv\n",
      "November 2023.csv\n",
      "November 2022.csv\n",
      "June 2021.csv\n",
      "July 2021.csv\n",
      "July 2023.csv\n",
      "June 2023.csv\n",
      "November 2020.csv\n",
      "June 2022.csv\n",
      "July 2022.csv\n",
      "November 2019.csv\n",
      "November 2018.csv\n",
      "July 2019.csv\n",
      "June 2019.csv\n",
      "June 2018.csv\n",
      "July 2018.csv\n"
     ]
    }
   ],
   "source": [
    "aggregate_data = pd.DataFrame({})\n",
    "\n",
    "# names of monthly data files\n",
    "files = [file_name for file_name in os.listdir('raw data') if file_name.endswith('.csv')]\n",
    "\n",
    "for file_name in files:\n",
    "    # Load a monthly data file\n",
    "    raw_data = pd.read_csv('raw data/'+file_name, parse_dates=['Departure'])\n",
    "    print(file_name)\n",
    "\n",
    "    # Identify relevant columns\n",
    "    cols = get_columns(raw_data)\n",
    "    proc_data = raw_data[cols].copy().dropna()\n",
    "\n",
    "    # Group data by date (in 'Departure' column)\n",
    "    # and apply an operation (e.g. sum, mean) to each column\n",
    "    proc_data = proc_data.groupby(proc_data['Departure'].apply(get_date)).agg(operations(cols))\n",
    "    proc_data.index.name = 'Date'\n",
    "\n",
    "    # Rename columns after grouping and transforming\n",
    "    proc_data.rename(columns=rename(cols), inplace=True)\n",
    "\n",
    "    # Add the processed monthly data to the aggregate DataFrame\n",
    "    aggregate_data = pd.concat([aggregate_data, proc_data], ignore_index = False)\n",
    "\n",
    "aggregate_data.sort_index(ascending=True, inplace=True)"
   ]
  },
  {
   "cell_type": "markdown",
   "id": "cde49aba-2b0a-4b9e-91cf-b75070c3b2f7",
   "metadata": {},
   "source": [
    "We now have a DataFrame containing all bike data compressed to a daily scale.  Note that the first day of each month appears in the raw data file for that month *and* the preceding one.  (E.g.  There are April 1, 2024 bike trips logged in both the April 2024 and March 2024 files.) So our aggregate DataFrame will have a repeated index at the first of each month.  For example:"
   ]
  },
  {
   "cell_type": "code",
   "execution_count": 7,
   "id": "f5ad9577-51ad-4483-881d-7f5b7423af27",
   "metadata": {},
   "outputs": [
    {
     "data": {
      "text/html": [
       "<div>\n",
       "<style scoped>\n",
       "    .dataframe tbody tr th:only-of-type {\n",
       "        vertical-align: middle;\n",
       "    }\n",
       "\n",
       "    .dataframe tbody tr th {\n",
       "        vertical-align: top;\n",
       "    }\n",
       "\n",
       "    .dataframe thead th {\n",
       "        text-align: right;\n",
       "    }\n",
       "</style>\n",
       "<table border=\"1\" class=\"dataframe\">\n",
       "  <thead>\n",
       "    <tr style=\"text-align: right;\">\n",
       "      <th></th>\n",
       "      <th>Bike trips</th>\n",
       "      <th>Total distance (m)</th>\n",
       "      <th>Total duration (sec)</th>\n",
       "      <th>Mean departure temperature (C)</th>\n",
       "      <th>Mean return temperature (C)</th>\n",
       "      <th>Electric bike trips</th>\n",
       "    </tr>\n",
       "    <tr>\n",
       "      <th>Date</th>\n",
       "      <th></th>\n",
       "      <th></th>\n",
       "      <th></th>\n",
       "      <th></th>\n",
       "      <th></th>\n",
       "      <th></th>\n",
       "    </tr>\n",
       "  </thead>\n",
       "  <tbody>\n",
       "    <tr>\n",
       "      <th>2024-04-01</th>\n",
       "      <td>12</td>\n",
       "      <td>16334.0</td>\n",
       "      <td>32841.0</td>\n",
       "      <td>10.833333</td>\n",
       "      <td>10.250000</td>\n",
       "      <td>0</td>\n",
       "    </tr>\n",
       "    <tr>\n",
       "      <th>2024-04-01</th>\n",
       "      <td>3628</td>\n",
       "      <td>11082297.0</td>\n",
       "      <td>4953672.0</td>\n",
       "      <td>16.729327</td>\n",
       "      <td>17.100331</td>\n",
       "      <td>1256</td>\n",
       "    </tr>\n",
       "  </tbody>\n",
       "</table>\n",
       "</div>"
      ],
      "text/plain": [
       "            Bike trips  Total distance (m)  Total duration (sec)  \\\n",
       "Date                                                               \n",
       "2024-04-01          12             16334.0               32841.0   \n",
       "2024-04-01        3628          11082297.0             4953672.0   \n",
       "\n",
       "            Mean departure temperature (C)  Mean return temperature (C)  \\\n",
       "Date                                                                      \n",
       "2024-04-01                       10.833333                    10.250000   \n",
       "2024-04-01                       16.729327                    17.100331   \n",
       "\n",
       "           Electric bike trips  \n",
       "Date                            \n",
       "2024-04-01                   0  \n",
       "2024-04-01                1256  "
      ]
     },
     "execution_count": 7,
     "metadata": {},
     "output_type": "execute_result"
    }
   ],
   "source": [
    "aggregate_data.loc[date(2024,4,1)]"
   ]
  },
  {
   "cell_type": "markdown",
   "id": "0ba1ed8b-d826-4c53-8cb8-d66810e708ba",
   "metadata": {},
   "source": [
    "We can combine these rows by summing the `Bike trips`, `Total distance (m)`, `Total duration`, and `Electric bike trips` columns and taking a weighted average in the `Mean departure temperature (C)` and `Mean return temperature (C)` columns."
   ]
  },
  {
   "cell_type": "code",
   "execution_count": 8,
   "id": "700609fa-a9fa-493c-a81b-9481b4d2e32f",
   "metadata": {},
   "outputs": [],
   "source": [
    "# Switch to integer indexing\n",
    "aggregate_data.reset_index(inplace=True)\n",
    "\n",
    "# Get locations of repeated dates\n",
    "bad_indices = [i for i in range(len(aggregate_data.index)-1)\n",
    "               if aggregate_data.loc[i,'Date'] == aggregate_data.loc[i+1,'Date']]\n",
    "\n",
    "for i in bad_indices:\n",
    "    # Get data from both rows\n",
    "    trips1, trips2 = aggregate_data.loc[[i,i+1],'Bike trips']\n",
    "    dist1, dist2 = aggregate_data.loc[[i,i+1],'Total distance (m)']\n",
    "    dur1, dur2 = aggregate_data.loc[[i,i+1],'Total duration (sec)']\n",
    "    dep_temp1, dep_temp2 = aggregate_data.loc[[i,i+1],'Mean departure temperature (C)']\n",
    "    ret_temp1, ret_temp2 = aggregate_data.loc[[i,i+1],'Mean return temperature (C)']\n",
    "    elec1, elec2 = aggregate_data.loc[[i,i+1],'Electric bike trips']\n",
    "\n",
    "    # Record new combined data in the first row\n",
    "    aggregate_data.loc[i,'Bike trips'] = trips1+trips2\n",
    "    aggregate_data.loc[i,'Total distance (m)'] = dist1+dist2\n",
    "    aggregate_data.loc[i,'Total duration (sec)'] = dur1+dur2\n",
    "    aggregate_data.loc[i,'Mean departure temperature (C)'] = (trips1*dep_temp1 + trips2*dep_temp2)/(trips1+trips2)\n",
    "    aggregate_data.loc[i,'Mean return temperature (C)'] = (trips1*ret_temp1 + trips2*ret_temp2)/(trips1+trips2)\n",
    "    aggregate_data.loc[i,'Electric bike trips'] = elec1+elec2\n",
    "\n",
    "# Drop all of the 'second' rows\n",
    "aggregate_data.drop([i+1 for i in bad_indices],inplace=True)\n",
    "\n",
    "# Switch back to date indexing\n",
    "aggregate_data.set_index('Date', inplace=True)"
   ]
  },
  {
   "cell_type": "markdown",
   "id": "5936969b-364e-4dfa-9c59-95b2291aef5b",
   "metadata": {},
   "source": [
    "Now we have:"
   ]
  },
  {
   "cell_type": "code",
   "execution_count": 9,
   "id": "cde3afe7-a3be-4d34-8d9f-2a86a115ef2a",
   "metadata": {},
   "outputs": [
    {
     "data": {
      "text/plain": [
       "Bike trips                              3640\n",
       "Total distance (m)                11098631.0\n",
       "Total duration (sec)               4986513.0\n",
       "Mean departure temperature (C)      16.70989\n",
       "Mean return temperature (C)        17.077747\n",
       "Electric bike trips                     1256\n",
       "Name: 2024-04-01, dtype: object"
      ]
     },
     "execution_count": 9,
     "metadata": {},
     "output_type": "execute_result"
    }
   ],
   "source": [
    "aggregate_data.loc[date(2024,4,1)]"
   ]
  },
  {
   "cell_type": "code",
   "execution_count": 10,
   "id": "c083a677-dbd9-4e7d-87da-22a206fffee3",
   "metadata": {},
   "outputs": [
    {
     "data": {
      "text/plain": [
       "False"
      ]
     },
     "execution_count": 10,
     "metadata": {},
     "output_type": "execute_result"
    }
   ],
   "source": [
    "any(aggregate_data.index.duplicated())"
   ]
  },
  {
   "cell_type": "code",
   "execution_count": 11,
   "id": "2ac0e616-7218-4e3c-b0b5-f268f007c594",
   "metadata": {},
   "outputs": [],
   "source": [
    "# aggregate_data.to_csv('aggregate data.csv')"
   ]
  }
 ],
 "metadata": {
  "kernelspec": {
   "display_name": "Python 3 (ipykernel)",
   "language": "python",
   "name": "python3"
  },
  "language_info": {
   "codemirror_mode": {
    "name": "ipython",
    "version": 3
   },
   "file_extension": ".py",
   "mimetype": "text/x-python",
   "name": "python",
   "nbconvert_exporter": "python",
   "pygments_lexer": "ipython3",
   "version": "3.9.15"
  }
 },
 "nbformat": 4,
 "nbformat_minor": 5
}
